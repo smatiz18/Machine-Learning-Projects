{
 "cells": [
  {
   "cell_type": "markdown",
   "id": "b291ca38",
   "metadata": {},
   "source": [
    "__*Written by Sebastian Matiz*__\n",
    "\n",
    "__*Exercise 1 ECE-443*__\n",
    "\n",
    "# 1) *Housing price data set.* \n",
    "In this exercise we explore a dataset related to housing price\n",
    "prediction."
   ]
  },
  {
   "cell_type": "code",
   "execution_count": 469,
   "id": "938bb4a6",
   "metadata": {},
   "outputs": [],
   "source": [
    "import numpy as np\n",
    "import pandas as pd\n",
    "import matplotlib.pyplot as plt\n",
    "import random\n",
    "import time"
   ]
  },
  {
   "cell_type": "code",
   "execution_count": 470,
   "id": "cc3c60ac",
   "metadata": {},
   "outputs": [],
   "source": [
    "housing_df = pd.read_csv('housing.csv')"
   ]
  },
  {
   "cell_type": "markdown",
   "id": "23f9de47",
   "metadata": {},
   "source": [
    "__a)__ Printing __shape__, __axes__, and __dtypes__."
   ]
  },
  {
   "cell_type": "code",
   "execution_count": 471,
   "id": "978cca74",
   "metadata": {},
   "outputs": [
    {
     "name": "stdout",
     "output_type": "stream",
     "text": [
      "shape: (1460, 19)\n"
     ]
    }
   ],
   "source": [
    "print (\"shape:\", housing_df.shape)"
   ]
  },
  {
   "cell_type": "code",
   "execution_count": 472,
   "id": "b8c1a1d8",
   "metadata": {},
   "outputs": [
    {
     "name": "stdout",
     "output_type": "stream",
     "text": [
      "axes: [RangeIndex(start=0, stop=1460, step=1), Index(['Id', 'MSSubClass', 'LotFrontage', 'LotArea', 'Street', 'BldgType',\n",
      "       'OverallQual', 'YearBuilt', 'TotalBsmtSF', 'FullBath', 'HalfBath',\n",
      "       'Fireplaces', 'FireplaceQu', 'GarageType', 'GarageYrBlt',\n",
      "       'GarageFinish', 'GarageCars', 'GarageArea', 'SalePrice'],\n",
      "      dtype='object')]\n"
     ]
    }
   ],
   "source": [
    "print (\"axes:\", housing_df.axes)"
   ]
  },
  {
   "cell_type": "code",
   "execution_count": 473,
   "id": "a7205966",
   "metadata": {},
   "outputs": [
    {
     "name": "stdout",
     "output_type": "stream",
     "text": [
      "dtypes: Id                int64\n",
      "MSSubClass        int64\n",
      "LotFrontage     float64\n",
      "LotArea           int64\n",
      "Street           object\n",
      "BldgType         object\n",
      "OverallQual       int64\n",
      "YearBuilt         int64\n",
      "TotalBsmtSF       int64\n",
      "FullBath          int64\n",
      "HalfBath          int64\n",
      "Fireplaces        int64\n",
      "FireplaceQu      object\n",
      "GarageType       object\n",
      "GarageYrBlt     float64\n",
      "GarageFinish     object\n",
      "GarageCars        int64\n",
      "GarageArea        int64\n",
      "SalePrice         int64\n",
      "dtype: object\n"
     ]
    }
   ],
   "source": [
    "print (\"dtypes:\",housing_df.dtypes)"
   ]
  },
  {
   "cell_type": "markdown",
   "id": "eecc62b3",
   "metadata": {},
   "source": [
    "\n",
    "__b)__ Printing first 10 rows of __housing_df__."
   ]
  },
  {
   "cell_type": "code",
   "execution_count": 474,
   "id": "3df40758",
   "metadata": {},
   "outputs": [
    {
     "name": "stdout",
     "output_type": "stream",
     "text": [
      "   Id  MSSubClass  LotFrontage  LotArea Street BldgType  OverallQual  \\\n",
      "0   1          60         65.0     8450   Pave     1Fam            7   \n",
      "1   2          20         80.0     9600   Pave     1Fam            6   \n",
      "2   3          60         68.0    11250   Pave     1Fam            7   \n",
      "3   4          70         60.0     9550   Pave     1Fam            7   \n",
      "4   5          60         84.0    14260   Pave     1Fam            8   \n",
      "5   6          50         85.0    14115   Pave     1Fam            5   \n",
      "6   7          20         75.0    10084   Pave     1Fam            8   \n",
      "7   8          60          NaN    10382   Pave     1Fam            7   \n",
      "8   9          50         51.0     6120   Pave     1Fam            7   \n",
      "9  10         190         50.0     7420   Pave   2fmCon            5   \n",
      "\n",
      "   YearBuilt  TotalBsmtSF  FullBath  HalfBath  Fireplaces FireplaceQu  \\\n",
      "0       2003          856         2         1           0         NaN   \n",
      "1       1976         1262         2         0           1          TA   \n",
      "2       2001          920         2         1           1          TA   \n",
      "3       1915          756         1         0           1          Gd   \n",
      "4       2000         1145         2         1           1          TA   \n",
      "5       1993          796         1         1           0         NaN   \n",
      "6       2004         1686         2         0           1          Gd   \n",
      "7       1973         1107         2         1           2          TA   \n",
      "8       1931          952         2         0           2          TA   \n",
      "9       1939          991         1         0           2          TA   \n",
      "\n",
      "  GarageType  GarageYrBlt GarageFinish  GarageCars  GarageArea  SalePrice  \n",
      "0     Attchd       2003.0          RFn           2         548     208500  \n",
      "1     Attchd       1976.0          RFn           2         460     181500  \n",
      "2     Attchd       2001.0          RFn           2         608     223500  \n",
      "3     Detchd       1998.0          Unf           3         642     140000  \n",
      "4     Attchd       2000.0          RFn           3         836     250000  \n",
      "5     Attchd       1993.0          Unf           2         480     143000  \n",
      "6     Attchd       2004.0          RFn           2         636     307000  \n",
      "7     Attchd       1973.0          RFn           2         484     200000  \n",
      "8     Detchd       1931.0          Unf           2         468     129900  \n",
      "9     Attchd       1939.0          RFn           1         205     118000  \n"
     ]
    }
   ],
   "source": [
    "print (housing_df.head(10))"
   ]
  },
  {
   "cell_type": "markdown",
   "id": "13172170",
   "metadata": {},
   "source": [
    "__c)__ __housing_df__ includes 1460 samples."
   ]
  },
  {
   "cell_type": "markdown",
   "id": "d1a83e7f",
   "metadata": {},
   "source": [
    "__d)__ Based on my knowledge of the dataset and its stated usage, I think \n",
    "we are dealing with a supervised learning problem. This is because our data is already labeled. "
   ]
  },
  {
   "cell_type": "markdown",
   "id": "d55ff507",
   "metadata": {},
   "source": [
    "__e)__  This dataset contains 17 indpendent features.\n",
    "\n",
    "Features:\n",
    "\n",
    "    -MSSubClass  \n",
    "    -LotFrontage  \n",
    "    -LotArea \n",
    "    -Street \n",
    "    -BldgType\n",
    "    -OverallQual\n",
    "    -YearBuilt  \n",
    "    -TotalBsmtSF  \n",
    "    -FullBath  \n",
    "    -HalfBath  \n",
    "    -Fireplaces \n",
    "    -FireplaceQu\n",
    "    -GarageType  \n",
    "    -GarageYrBlt \n",
    "    -GarageFinish  \n",
    "    -GarageCars  \n",
    "    -GarageArea  \n",
    "   "
   ]
  },
  {
   "cell_type": "markdown",
   "id": "3e2be062",
   "metadata": {},
   "source": [
    "__f)__ This dataset contains 1 dependent features.\n",
    "\n",
    "Features:\n",
    "\n",
    "    -SalePrice"
   ]
  },
  {
   "cell_type": "markdown",
   "id": "8024e51b",
   "metadata": {},
   "source": [
    "__g)__ There are 6 categorical values.\n",
    "\n",
    "Features:\n",
    "\n",
    "\n",
    "    -Street\n",
    "    -BldgType\n",
    "    -OverallQual     Ranges from (1,10)\n",
    "    -FireplaceQu\n",
    "    -GarageType\n",
    "    -GarageFinish\n",
    "  "
   ]
  },
  {
   "cell_type": "markdown",
   "id": "54405754",
   "metadata": {},
   "source": [
    "__h)__ Plot SalePrice as a function of LotArea."
   ]
  },
  {
   "cell_type": "code",
   "execution_count": 475,
   "id": "9fbdf52e",
   "metadata": {},
   "outputs": [],
   "source": [
    "X = housing_df['LotArea'].to_numpy()\n",
    "Y = housing_df['SalePrice'].to_numpy()"
   ]
  },
  {
   "cell_type": "code",
   "execution_count": 476,
   "id": "6400d814",
   "metadata": {},
   "outputs": [
    {
     "data": {
      "text/plain": [
       "[<matplotlib.lines.Line2D at 0x125207700>]"
      ]
     },
     "execution_count": 476,
     "metadata": {},
     "output_type": "execute_result"
    },
    {
     "data": {
      "image/png": "[encoded data removed]",
      "text/plain": [
       "<Figure size 432x288 with 1 Axes>"
      ]
     },
     "metadata": {
      "needs_background": "light"
     },
     "output_type": "display_data"
    }
   ],
   "source": [
    "# Linear Scale\n",
    "plt.plot(X, Y, '.')"
   ]
  },
  {
   "cell_type": "code",
   "execution_count": 477,
   "id": "7ff982b2",
   "metadata": {},
   "outputs": [
    {
     "data": {
      "text/plain": [
       "[<matplotlib.lines.Line2D at 0x1250aaaf0>]"
      ]
     },
     "execution_count": 477,
     "metadata": {},
     "output_type": "execute_result"
    },
    {
     "data": {
      "image/png": "[encoded data removed]",
      "text/plain": [
       "<Figure size 432x288 with 1 Axes>"
      ]
     },
     "metadata": {
      "needs_background": "light"
     },
     "output_type": "display_data"
    }
   ],
   "source": [
    "# Logorithmic Scale\n",
    "plt.plot(np.log(X),np.log(Y),'.')"
   ]
  },
  {
   "cell_type": "markdown",
   "id": "6f9624b1",
   "metadata": {},
   "source": [
    "## __Analysis__  *(LotArea, SalePrice)*:\n",
    "\n",
    "The plot using SalePrice as a function of LotArea does not seem to be a good fit for linear regression. The points seem to cluster together and there is a lot of variance in values of LotArea and the corresponding SalePrice. "
   ]
  },
  {
   "cell_type": "markdown",
   "id": "5ee4ae9e",
   "metadata": {},
   "source": [
    "__i)__ How many samples have a GarageArea greater than zero? For those samples,\n",
    "plot SalePrice as a function of GarageArea."
   ]
  },
  {
   "cell_type": "code",
   "execution_count": 478,
   "id": "7ae93d0e",
   "metadata": {},
   "outputs": [],
   "source": [
    "gA = housing_df['GarageArea'].to_numpy()\n",
    "nonZero = np.nonzero(gA)\n",
    "gA = gA[nonZero]\n",
    "\n",
    "sP = housing_df['SalePrice'].to_numpy()\n",
    "sP = sP[nonZero]"
   ]
  },
  {
   "cell_type": "code",
   "execution_count": 479,
   "id": "3b80349a",
   "metadata": {},
   "outputs": [
    {
     "name": "stdout",
     "output_type": "stream",
     "text": [
      "nonzero GarageArea sample 1379\n"
     ]
    }
   ],
   "source": [
    "# Printing number of nonzero GarageArea samples\n",
    "print (\"nonzero GarageArea sample\",len(np.transpose(nonZero)))"
   ]
  },
  {
   "cell_type": "code",
   "execution_count": 480,
   "id": "83e2704c",
   "metadata": {},
   "outputs": [
    {
     "data": {
      "text/plain": [
       "[<matplotlib.lines.Line2D at 0x12446c7f0>]"
      ]
     },
     "execution_count": 480,
     "metadata": {},
     "output_type": "execute_result"
    },
    {
     "data": {
      "image/png": "[encoded data removed]",
      "text/plain": [
       "<Figure size 432x288 with 1 Axes>"
      ]
     },
     "metadata": {
      "needs_background": "light"
     },
     "output_type": "display_data"
    }
   ],
   "source": [
    "# Linear Scale\n",
    "plt.plot(gA, sP, '.')"
   ]
  },
  {
   "cell_type": "code",
   "execution_count": 481,
   "id": "582db3f4",
   "metadata": {},
   "outputs": [
    {
     "data": {
      "text/plain": [
       "[<matplotlib.lines.Line2D at 0x12427b490>]"
      ]
     },
     "execution_count": 481,
     "metadata": {},
     "output_type": "execute_result"
    },
    {
     "data": {
      "image/png": "[encoded data removed]",
      "text/plain": [
       "<Figure size 432x288 with 1 Axes>"
      ]
     },
     "metadata": {
      "needs_background": "light"
     },
     "output_type": "display_data"
    }
   ],
   "source": [
    "# Logorithmic Scale\n",
    "plt.plot(np.log(gA), np.log(sP), '.')"
   ]
  },
  {
   "cell_type": "markdown",
   "id": "92994cfb",
   "metadata": {},
   "source": [
    "## __Analysis__  *(GarageArea, SalePrice)*:\n",
    "\n",
    "The plot using SalePrice as a function of GarageArea does seem to fit linear regression better than LotArea. We could use GarageArea as a predictor for SalePrice but as we see in the linear graph, there is a lot of variance from GarageArea(800:1400) to the corresponding SalePrice values. Hence, GarageArea may not be the best reliable predictor for SalePrice."
   ]
  },
  {
   "cell_type": "markdown",
   "id": "0c5f4053",
   "metadata": {},
   "source": [
    "# 2) *Linear regression* \n",
    "In this exercise we explore a dataset related to housing price\n",
    "prediction."
   ]
  },
  {
   "cell_type": "code",
   "execution_count": 482,
   "id": "1f9f9c5b",
   "metadata": {},
   "outputs": [],
   "source": [
    "df_data = pd.read_csv('exercise1_data.csv')\n",
    "\n",
    "X = df_data[['X1','X2','X3','X4']].to_numpy()\n",
    "Y = df_data['Y'].to_numpy()\n",
    "Y = np.expand_dims(Y,axis=1)"
   ]
  },
  {
   "cell_type": "code",
   "execution_count": 483,
   "id": "415b5fc2",
   "metadata": {},
   "outputs": [
    {
     "name": "stdout",
     "output_type": "stream",
     "text": [
      "Number of samples: 1000\n"
     ]
    }
   ],
   "source": [
    "# a)\n",
    "# print number of samples, m\n",
    "\n",
    "print (\"Number of samples:\", df_data.shape[0])"
   ]
  },
  {
   "cell_type": "markdown",
   "id": "216cf0f3",
   "metadata": {},
   "source": [
    "__b)__\n",
    "\n",
    "This is important because adding a column of one's allows us to select an intercept \n",
    "for our linear regression. Perhaps the 'line' of best fit does not pass through the origin.\n",
    "\n",
    "I ended up not adding a column of all ones because I decided to just update the scalar intercept value b, \n",
    "and just adding it to Y_pred. This is easily done by just adding Y_pred + b. Hence we do not need to add a whole \n",
    "new column. This ultimately saves space. \n"
   ]
  },
  {
   "cell_type": "code",
   "execution_count": 484,
   "id": "4fa42d4b",
   "metadata": {},
   "outputs": [],
   "source": [
    "# add all ones col to data matrix\n",
    "# Using DataFrame.insert() to add a column\n",
    "\n",
    "# onesCol = np.ones((1000,), dtype=float)\n",
    "\n",
    "# X = np.insert(X, 4, onesCol, axis = 1)"
   ]
  },
  {
   "cell_type": "code",
   "execution_count": 485,
   "id": "225cdcf8",
   "metadata": {},
   "outputs": [],
   "source": [
    "#c) Standard Gradient Descent\n",
    "def derivFunc(X_i, Y_delta):       \n",
    "    sum = 0\n",
    "    for x, y in zip(X_i, Y_delta):  # this function returns ∇J(θ)_i = 2*∑(Y_pred - Y_actual)*X_i\n",
    "        sum += x*y\n",
    "    return 2*sum\n",
    "\n",
    "def lossFunc(delta):  # currLoss = ∑((Y_pred - Y_actual)^2)\n",
    "    sum = 0\n",
    "    for curr in delta:\n",
    "        sum += (curr ** 2)\n",
    "    return sum\n",
    "\n",
    "def GD(intercept, lR, epochs):\n",
    "    mCoeff = [0.,0.,0.,0.]    # m_1, ... , m_4\n",
    "    dmCoeff  = [0.,0.,0.,0.]  # ∇J(θ)_1, ... , ∇J(θ)_4\n",
    "    learningRate = lR\n",
    "    b = intercept             # starting intercept\n",
    "    epochs = epochs\n",
    "    loss = []\n",
    "    X_t = X.transpose()\n",
    "    \n",
    "    for x in range(epochs):\n",
    "        Y_pred = [0]\n",
    "        for currCol, currM in zip(X_t, mCoeff): # Y_pred = m_1*X_1 + m_2*X_2 + m_3*X_3 + m_4*X_4 + b\n",
    "            Y_pred += (currM*currCol)   \n",
    "        Y_pred = Y_pred.transpose() + b         # add intercept\n",
    "        \n",
    "        Y_pred = np.reshape(Y_pred, (1000,1))\n",
    "        Y_delta = np.subtract(Y_pred,Y)         # Y_delta = Y_pred - Y_actual\n",
    "        currLoss = lossFunc(Y_delta)            # currLoss = ∑((Y_pred - Y_actual)^2)\n",
    "        loss.append(currLoss)                      \n",
    "\n",
    "        index = 0\n",
    "        for currCol in X_t:                     # calculating derivative of loss function WRT m_i\n",
    "            currCol = currCol.transpose()     \n",
    "            currCol = np.reshape(currCol, (1000,1))\n",
    "            dmCoeff[index] = derivFunc(currCol, Y_delta) # ∇J(θ)_i = 2*∑(Y_pred - Y_actual)*X_i\n",
    "            index+=1\n",
    "            \n",
    "        db = (2)*sum(Y_delta)                  # calculating derivative of loss function WRT b\n",
    "        \n",
    "        for index in range(len(mCoeff)):\n",
    "            mCoeff[index] -= learningRate * dmCoeff[index]  # updating m coeff's after each epoch\n",
    "        b -= learningRate * db                              # updating b coeff after each epoch (intercept)\n",
    "    return loss, mCoeff, b"
   ]
  },
  {
   "cell_type": "code",
   "execution_count": 486,
   "id": "cf2d3a37",
   "metadata": {},
   "outputs": [
    {
     "name": "stdout",
     "output_type": "stream",
     "text": [
      "--- 4.398761987686157 seconds ---\n",
      "Model:  10.000000000000004 x_1 +  0.5000000000000022 x_2 +  3.000000000000001 x_3 +  -9.999999999999996 x_4 +  4.999999999999996\n"
     ]
    }
   ],
   "source": [
    "start_time = time.time()\n",
    "loss, mCoeff, b = GD(1, .1/1000.0, 1000)\n",
    "print(\"--- %s seconds ---\" % (time.time() - start_time))\n",
    "print ('Model: ', float(mCoeff[0]),\n",
    "       'x_1 + ', float(mCoeff[1]), \n",
    "       'x_2 + ', float(mCoeff[2]), \n",
    "       'x_3 + ', float(mCoeff[3]), \n",
    "       'x_4 + ', float(b))"
   ]
  },
  {
   "cell_type": "code",
   "execution_count": 487,
   "id": "ea4c82d7",
   "metadata": {},
   "outputs": [
    {
     "name": "stdout",
     "output_type": "stream",
     "text": [
      "[239688.40836189] [4.01776321e-26]\n"
     ]
    },
    {
     "data": {
      "image/png": "[encoded data removed]",
      "text/plain": [
       "<Figure size 432x288 with 1 Axes>"
      ]
     },
     "metadata": {
      "needs_background": "light"
     },
     "output_type": "display_data"
    }
   ],
   "source": [
    "plt.plot(loss)\n",
    "print(loss[0], loss[999])"
   ]
  },
  {
   "cell_type": "code",
   "execution_count": 488,
   "id": "06299396",
   "metadata": {},
   "outputs": [
    {
     "name": "stdout",
     "output_type": "stream",
     "text": [
      "--- 4.421176910400391 seconds ---\n",
      "Model:  10.000023010456516 x_1 +  0.5019612338801085 x_2 +  3.0000492101662033 x_3 +  -9.999865586123978 x_4 +  4.996891447128418\n"
     ]
    }
   ],
   "source": [
    "# d)\n",
    "start_time = time.time()\n",
    "loss, mCoeff, b = GD(1, .01/1000.0, 1000)\n",
    "print(\"--- %s seconds ---\" % (time.time() - start_time))\n",
    "print ('Model: ', float(mCoeff[0]),\n",
    "       'x_1 + ', float(mCoeff[1]), \n",
    "       'x_2 + ', float(mCoeff[2]), \n",
    "       'x_3 + ', float(mCoeff[3]), \n",
    "       'x_4 + ', float(b))"
   ]
  },
  {
   "cell_type": "code",
   "execution_count": 489,
   "id": "fd9511f0",
   "metadata": {},
   "outputs": [
    {
     "name": "stdout",
     "output_type": "stream",
     "text": [
      "[239688.40836189] [0.00466282]\n"
     ]
    },
    {
     "data": {
      "image/png": "[encoded data removed]",
      "text/plain": [
       "<Figure size 432x288 with 1 Axes>"
      ]
     },
     "metadata": {
      "needs_background": "light"
     },
     "output_type": "display_data"
    }
   ],
   "source": [
    "plt.plot(loss)\n",
    "print(loss[0], loss[999])"
   ]
  },
  {
   "cell_type": "markdown",
   "id": "5f9fc4c1",
   "metadata": {},
   "source": [
    "The loss is minimized at a lower rate as compared to the plot in part c. This can be attributed to the smaller learning rate."
   ]
  },
  {
   "cell_type": "code",
   "execution_count": 490,
   "id": "67436819",
   "metadata": {},
   "outputs": [],
   "source": [
    "# e)\n",
    "# for Stochastic Gradient Descent we are implementing the Gradient Descent algorithm in batches to reduce computation\n",
    "# let us create batch size equal to 1000/40 = 25\n",
    "def getBatchIndicies(size, maxValue): # The batch indicies are decided at random hence it is stochastic\n",
    "    start = random.randint(0, maxValue-size)\n",
    "    finish = start + size\n",
    "    return start, finish\n",
    "\n",
    "# Stochastic Gradient Descent\n",
    "def SGD(intercept, lR, epochs, batchSize: float):\n",
    "    mCoeff = [0.,0.,0.,0.]   # m_1, ... , m_4\n",
    "    dmCoeff  = [0.,0.,0.,0.] # ∇J(θ)_1, ... , ∇J(θ)_4\n",
    "    learningRate = lR\n",
    "    b = intercept            # starting intercept\n",
    "    epochs = epochs\n",
    "    loss = []\n",
    "    X_t = X.transpose()\n",
    "    for x in range(epochs):\n",
    "        bStart, bEnd = getBatchIndicies(batchSize, 1000)\n",
    "        Y_pred = [0]\n",
    "        for currCol, currM in zip(X_t, mCoeff):        # Y_pred = m_1*X_1 + m_2*X_2 + m_3*X_3 + m_4*X_4 + b\n",
    "            Y_pred += (currM*currCol[bStart:bEnd])\n",
    "        Y_pred = Y_pred.transpose() + b                # add intercept\n",
    "        \n",
    "        Y_pred = np.reshape(Y_pred, (batchSize,1))\n",
    "        Y_delta = np.subtract(Y_pred,Y[bStart:bEnd])   # Y_delta = Y_pred - Y_actual\n",
    "        currLoss = lossFunc(Y_delta)                   # currLoss = ∑((Y_pred - Y_actual)^2)\n",
    "        loss.append(currLoss)\n",
    "\n",
    "        index = 0\n",
    "        for currCol in X_t:                            # calculating derivative of loss function WRT m_i\n",
    "            currCol = currCol.transpose()\n",
    "            currCol = np.reshape(currCol[bStart:bEnd], (batchSize,1))\n",
    "            dmCoeff[index] = derivFunc(currCol, Y_delta) # ∇J(θ)_i = 2*∑((Y_pred - Y_actual)X_i)\n",
    "            index+=1\n",
    "            \n",
    "        db = (2)*sum(Y_delta)\n",
    "        \n",
    "        for index in range(len(mCoeff)):\n",
    "            mCoeff[index] -= learningRate * dmCoeff[index]   # updating m coeff's after each epoch\n",
    "        b -= learningRate * db                               # updating b coeff after each epoch (intercept)\n",
    "    return loss, mCoeff, b \n",
    "        \n",
    "        "
   ]
  },
  {
   "cell_type": "code",
   "execution_count": 491,
   "id": "b9dc8622",
   "metadata": {},
   "outputs": [
    {
     "name": "stdout",
     "output_type": "stream",
     "text": [
      "--- 0.14607691764831543 seconds ---\n",
      "Model:  10.0 x_1 +  0.5000000000000002 x_2 +  3.0000000000000004 x_3 +  -10.0 x_4 +  5.000000000000001\n"
     ]
    }
   ],
   "source": [
    "start_time = time.time()\n",
    "loss, mCoeff, b = SGD(1, .01, 1000, 25)\n",
    "print(\"--- %s seconds ---\" % (time.time() - start_time))\n",
    "print ('Model: ', float(mCoeff[0]),\n",
    "       'x_1 + ', float(mCoeff[1]), \n",
    "       'x_2 + ', float(mCoeff[2]), \n",
    "       'x_3 + ', float(mCoeff[3]), \n",
    "       'x_4 + ', float(b))"
   ]
  },
  {
   "cell_type": "code",
   "execution_count": 492,
   "id": "ce719d8f",
   "metadata": {},
   "outputs": [
    {
     "name": "stdout",
     "output_type": "stream",
     "text": [
      "[4218.58060155] [1.75025095e-28]\n"
     ]
    },
    {
     "data": {
      "image/png": "[encoded data removed]",
      "text/plain": [
       "<Figure size 432x288 with 1 Axes>"
      ]
     },
     "metadata": {
      "needs_background": "light"
     },
     "output_type": "display_data"
    }
   ],
   "source": [
    "plt.plot(loss)\n",
    "print(loss[0], loss[999])"
   ]
  },
  {
   "cell_type": "code",
   "execution_count": 493,
   "id": "37bc1c9d",
   "metadata": {},
   "outputs": [
    {
     "name": "stdout",
     "output_type": "stream",
     "text": [
      "--- 0.14504694938659668 seconds ---\n",
      "Model:  10.000000000319492 x_1 +  0.5000000749901318 x_2 +  2.999999999658091 x_3 +  -9.999999997646631 x_4 +  4.999999888322696\n"
     ]
    }
   ],
   "source": [
    "# f)\n",
    "start_time = time.time()\n",
    "loss, mCoeff, b = SGD(1, .001, 1000, 25)\n",
    "print(\"--- %s seconds ---\" % (time.time() - start_time))\n",
    "print ('Model: ', float(mCoeff[0]),\n",
    "       'x_1 + ', float(mCoeff[1]), \n",
    "       'x_2 + ', float(mCoeff[2]), \n",
    "       'x_3 + ', float(mCoeff[3]), \n",
    "       'x_4 + ', float(b))"
   ]
  },
  {
   "cell_type": "code",
   "execution_count": 494,
   "id": "446f47c3",
   "metadata": {},
   "outputs": [
    {
     "name": "stdout",
     "output_type": "stream",
     "text": [
      "[3278.59399369] [1.54347447e-13]\n"
     ]
    },
    {
     "data": {
      "image/png": "[encoded data removed]",
      "text/plain": [
       "<Figure size 432x288 with 1 Axes>"
      ]
     },
     "metadata": {
      "needs_background": "light"
     },
     "output_type": "display_data"
    }
   ],
   "source": [
    "plt.plot(loss)\n",
    "print(loss[0], loss[999])"
   ]
  },
  {
   "cell_type": "markdown",
   "id": "8ffb79d6",
   "metadata": {},
   "source": [
    "The loss is minimized at a lower rate as compared to the plot in part e. This can be attributed to the smaller learning rate."
   ]
  },
  {
   "cell_type": "markdown",
   "id": "968a61f4",
   "metadata": {},
   "source": [
    "__g)__\n",
    "\n",
    "The plots of part c and e are identically shaped, the only difference is the intitial values of loss. The initial values of loss for Standard Gradient Descent were much higher as compared to the initial values for Stochastic Gradient Descent. This can be attributed to our batch sizes. We sum up the loss of 1,000 samples in plot C vs summing up the loss of 25 samples. \n",
    "\n",
    "## Final Plot Analysis:\n",
    "First off, all of the graphs seemed to converge on the model: y = 10.0*x_1 + 0.5*x_2 + 3.0*x_3 + -10.0*x_4 + 5.0\n",
    "\n",
    "\n",
    "Secondly, convergence to these coefficients was slower when the step size was smaller which is expected.\n",
    "It was interesting that the plots for Standard Gradient Descent had a very small learning rate, while in the Stochastic Gradient Descent a higher learning rate was chosen. Was this done for a particular reason?\n",
    "\n",
    "Also, for the Stochastic Gradient Descent plots as compared to the Standard Gradient Descent, jagged edges were introduced in our loss function plot. This can be explained because since each epoch experiences different batches, higher values for the loss can be seen as compared to previous values of loss. \n",
    "\n",
    "It is also shown that the same results can be seen with much less computation when using Stochastic Gradient Descent.\n",
    "Each epoch with stochastic gradient descent works on a batch of 25 samples, while standard gradient descent works on a batch of a 1,000 samples. I also timed the execution speed for Stochastic Gradient Descent and Gradient Descent and found significant speed up in Stochastic Gradient Descent. \n",
    "\n",
    "Lastly, I would like to show why picking good parameters for SGD is important. For example, if we pick a step size too large we could diverge instead of converge on our optimization of our loss function. "
   ]
  },
  {
   "cell_type": "code",
   "execution_count": 495,
   "id": "dcff8c83",
   "metadata": {},
   "outputs": [
    {
     "name": "stdout",
     "output_type": "stream",
     "text": [
      "--- 0.14771628379821777 seconds ---\n",
      "Model:  nan x_1 +  nan x_2 +  nan x_3 +  nan x_4 +  nan\n"
     ]
    },
    {
     "name": "stderr",
     "output_type": "stream",
     "text": [
      "/var/folders/s8/h_031z5d7mbf8ckkr3tnb9rw0000gn/T/ipykernel_19769/3409338726.py:11: RuntimeWarning: overflow encountered in add\n",
      "  sum += (curr ** 2)\n",
      "/var/folders/s8/h_031z5d7mbf8ckkr3tnb9rw0000gn/T/ipykernel_19769/3409338726.py:11: RuntimeWarning: overflow encountered in square\n",
      "  sum += (curr ** 2)\n",
      "/var/folders/s8/h_031z5d7mbf8ckkr3tnb9rw0000gn/T/ipykernel_19769/3409338726.py:5: RuntimeWarning: overflow encountered in add\n",
      "  sum += x*y\n",
      "/var/folders/s8/h_031z5d7mbf8ckkr3tnb9rw0000gn/T/ipykernel_19769/1915051508.py:37: RuntimeWarning: overflow encountered in add\n",
      "  db = (2)*sum(Y_delta)\n",
      "/var/folders/s8/h_031z5d7mbf8ckkr3tnb9rw0000gn/T/ipykernel_19769/1915051508.py:23: RuntimeWarning: invalid value encountered in add\n",
      "  Y_pred = Y_pred.transpose() + b                # add intercept\n"
     ]
    }
   ],
   "source": [
    "# example of divergance due to step size being .1 which is too large\n",
    "start_time = time.time()\n",
    "loss, mCoeff, b = SGD(1, .1, 1000, 25)\n",
    "print(\"--- %s seconds ---\" % (time.time() - start_time))\n",
    "print ('Model: ', float(mCoeff[0]),\n",
    "       'x_1 + ', float(mCoeff[1]), \n",
    "       'x_2 + ', float(mCoeff[2]), \n",
    "       'x_3 + ', float(mCoeff[3]), \n",
    "       'x_4 + ', float(b))"
   ]
  },
  {
   "cell_type": "code",
   "execution_count": 496,
   "id": "52ad0c82",
   "metadata": {},
   "outputs": [
    {
     "name": "stdout",
     "output_type": "stream",
     "text": [
      "[5182.481505] [nan]\n"
     ]
    },
    {
     "data": {
      "image/png": "[encoded data removed]",
      "text/plain": [
       "<Figure size 432x288 with 1 Axes>"
      ]
     },
     "metadata": {
      "needs_background": "light"
     },
     "output_type": "display_data"
    }
   ],
   "source": [
    "plt.plot(loss)\n",
    "print(loss[0], loss[999])"
   ]
  },
  {
   "cell_type": "code",
   "execution_count": null,
   "id": "4442afd9",
   "metadata": {},
   "outputs": [],
   "source": []
  }
 ],
 "metadata": {
  "kernelspec": {
   "display_name": "Python 3 (ipykernel)",
   "language": "python",
   "name": "python3"
  },
  "language_info": {
   "codemirror_mode": {
    "name": "ipython",
    "version": 3
   },
   "file_extension": ".py",
   "mimetype": "text/x-python",
   "name": "python",
   "nbconvert_exporter": "python",
   "pygments_lexer": "ipython3",
   "version": "3.9.9"
  }
 },
 "nbformat": 4,
 "nbformat_minor": 5
}
