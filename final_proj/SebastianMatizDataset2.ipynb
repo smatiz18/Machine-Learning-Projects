{
 "cells": [
  {
   "cell_type": "code",
   "execution_count": 201,
   "id": "562395fd",
   "metadata": {},
   "outputs": [],
   "source": [
    "import numpy as np\n",
    "import pandas as pd\n",
    "import matplotlib.pyplot as plt"
   ]
  },
  {
   "cell_type": "markdown",
   "id": "6ad133c7",
   "metadata": {},
   "source": [
    "# Exploring Dataset #"
   ]
  },
  {
   "cell_type": "code",
   "execution_count": 202,
   "id": "9f2d141e",
   "metadata": {},
   "outputs": [
    {
     "name": "stdout",
     "output_type": "stream",
     "text": [
      "Number of Samples: 37249\n"
     ]
    },
    {
     "data": {
      "text/html": [
       "<div>\n",
       "<style scoped>\n",
       "    .dataframe tbody tr th:only-of-type {\n",
       "        vertical-align: middle;\n",
       "    }\n",
       "\n",
       "    .dataframe tbody tr th {\n",
       "        vertical-align: top;\n",
       "    }\n",
       "\n",
       "    .dataframe thead th {\n",
       "        text-align: right;\n",
       "    }\n",
       "</style>\n",
       "<table border=\"1\" class=\"dataframe\">\n",
       "  <thead>\n",
       "    <tr style=\"text-align: right;\">\n",
       "      <th></th>\n",
       "      <th>clean_comment</th>\n",
       "      <th>category</th>\n",
       "    </tr>\n",
       "  </thead>\n",
       "  <tbody>\n",
       "    <tr>\n",
       "      <th>0</th>\n",
       "      <td>family mormon have never tried explain them t...</td>\n",
       "      <td>1</td>\n",
       "    </tr>\n",
       "    <tr>\n",
       "      <th>1</th>\n",
       "      <td>buddhism has very much lot compatible with chr...</td>\n",
       "      <td>1</td>\n",
       "    </tr>\n",
       "    <tr>\n",
       "      <th>2</th>\n",
       "      <td>seriously don say thing first all they won get...</td>\n",
       "      <td>-1</td>\n",
       "    </tr>\n",
       "    <tr>\n",
       "      <th>3</th>\n",
       "      <td>what you have learned yours and only yours wha...</td>\n",
       "      <td>0</td>\n",
       "    </tr>\n",
       "    <tr>\n",
       "      <th>4</th>\n",
       "      <td>for your own benefit you may want read living ...</td>\n",
       "      <td>1</td>\n",
       "    </tr>\n",
       "  </tbody>\n",
       "</table>\n",
       "</div>"
      ],
      "text/plain": [
       "                                       clean_comment  category\n",
       "0   family mormon have never tried explain them t...         1\n",
       "1  buddhism has very much lot compatible with chr...         1\n",
       "2  seriously don say thing first all they won get...        -1\n",
       "3  what you have learned yours and only yours wha...         0\n",
       "4  for your own benefit you may want read living ...         1"
      ]
     },
     "execution_count": 202,
     "metadata": {},
     "output_type": "execute_result"
    }
   ],
   "source": [
    "reddit_df = pd.read_csv('Reddit_Data.csv')\n",
    "# Printing size of our dataset\n",
    "print (\"Number of Samples:\",len(reddit_df))\n",
    "# Printing first 5 samples in our dataset\n",
    "reddit_df.head(5)"
   ]
  },
  {
   "cell_type": "markdown",
   "id": "3488fdb8",
   "metadata": {},
   "source": [
    "Sample of what the data looks like:\n",
    "    We can see that we have our actual text data and the category that it belongs to.\n",
    "    1: Positive\n",
    "    0: Neutral\n",
    "   -1: Negative\n"
   ]
  },
  {
   "cell_type": "code",
   "execution_count": 203,
   "id": "c886217e",
   "metadata": {},
   "outputs": [
    {
     "data": {
      "image/png": "[encoded data removed]",
      "text/plain": [
       "<Figure size 432x288 with 1 Axes>"
      ]
     },
     "metadata": {
      "needs_background": "light"
     },
     "output_type": "display_data"
    },
    {
     "name": "stdout",
     "output_type": "stream",
     "text": [
      "Positive: 15830 , Neutral: 13142 , Negative: 8277\n"
     ]
    }
   ],
   "source": [
    "def labelDistribution():\n",
    "    labels = reddit_df[\"category\"].to_numpy()\n",
    "    neg_count = 0\n",
    "    pos_count = 0\n",
    "    neu_count = 0\n",
    "    for i in labels:\n",
    "        if i == -1:\n",
    "            neg_count+=1\n",
    "        elif i == 1:\n",
    "            pos_count+=1\n",
    "        else:\n",
    "            neu_count+=1\n",
    "\n",
    "    fig = plt.figure()\n",
    "    ax = fig.add_axes([0,0,1,1])\n",
    "    categories = ['Positive', 'Neutral', 'Negative']\n",
    "    counts = [pos_count, neu_count, neg_count]\n",
    "    ax.bar(categories, counts)\n",
    "    plt.show()\n",
    "    print (\"Positive:\", pos_count, \", Neutral:\", neu_count, \", Negative:\", neg_count)\n",
    "    \n",
    "labelDistribution()"
   ]
  },
  {
   "cell_type": "markdown",
   "id": "39f0d4cb",
   "metadata": {},
   "source": [
    "As we can see around __42%__ of the dataset is comprised of positive comments, around __35%__ is comprised of neutral comments, and around\n",
    "__22%__ is comprised of negative comments."
   ]
  },
  {
   "cell_type": "markdown",
   "id": "3c0df1d6",
   "metadata": {},
   "source": [
    "Let us explore the number of unique words in our data set."
   ]
  },
  {
   "cell_type": "code",
   "execution_count": 204,
   "id": "939208de",
   "metadata": {},
   "outputs": [
    {
     "name": "stdout",
     "output_type": "stream",
     "text": [
      "Number of unique words:  54732\n"
     ]
    }
   ],
   "source": [
    "word_dict = dict()\n",
    "def getNumUniqueWords():\n",
    "    word_index = 0\n",
    "    for comment in reddit_df[\"clean_comment\"]:\n",
    "        split_comment = str(comment).split()\n",
    "        for word in split_comment:\n",
    "            word_dict[word] = word_dict.get(word, 0) - 1\n",
    "    print (\"Number of unique words: \", len(word_dict))\n",
    "getNumUniqueWords()"
   ]
  },
  {
   "cell_type": "markdown",
   "id": "b13b8261",
   "metadata": {},
   "source": [
    "# Pre-processing of Data Set  #"
   ]
  },
  {
   "cell_type": "markdown",
   "id": "b86893c0",
   "metadata": {},
   "source": [
    "Since our data set is skewed towards positive and neutral comments\n",
    "I think it would be beneficial to undersample positive and neutral\n",
    "comments so our data is more evenely distributed."
   ]
  },
  {
   "cell_type": "code",
   "execution_count": 205,
   "id": "9b44e4eb",
   "metadata": {},
   "outputs": [
    {
     "name": "stderr",
     "output_type": "stream",
     "text": [
      "/var/folders/s8/h_031z5d7mbf8ckkr3tnb9rw0000gn/T/ipykernel_1351/1316555105.py:7: FutureWarning: The frame.append method is deprecated and will be removed from pandas in a future version. Use pandas.concat instead.\n",
      "  reddit_df = reddit_df_pos.append(reddit_df_neu).append(reddit_df_neg)\n",
      "/var/folders/s8/h_031z5d7mbf8ckkr3tnb9rw0000gn/T/ipykernel_1351/1316555105.py:7: FutureWarning: The frame.append method is deprecated and will be removed from pandas in a future version. Use pandas.concat instead.\n",
      "  reddit_df = reddit_df_pos.append(reddit_df_neu).append(reddit_df_neg)\n"
     ]
    }
   ],
   "source": [
    "# Random Undersampling of Positive and Neutral Comments\n",
    "\n",
    "reddit_df_pos = reddit_df[reddit_df[\"category\"] == 1].sample(frac=.68)\n",
    "reddit_df_neu = reddit_df[reddit_df[\"category\"] == 0].sample(frac=.80)\n",
    "reddit_df_neg = reddit_df[reddit_df[\"category\"] ==-1].sample(frac=1)\n",
    "\n",
    "reddit_df = reddit_df_pos.append(reddit_df_neu).append(reddit_df_neg)\n"
   ]
  },
  {
   "cell_type": "markdown",
   "id": "30705c1c",
   "metadata": {},
   "source": [
    "Let's now see the data distributions again."
   ]
  },
  {
   "cell_type": "code",
   "execution_count": 206,
   "id": "7971374f",
   "metadata": {},
   "outputs": [
    {
     "data": {
      "image/png": "[encoded data removed]",
      "text/plain": [
       "<Figure size 432x288 with 1 Axes>"
      ]
     },
     "metadata": {
      "needs_background": "light"
     },
     "output_type": "display_data"
    },
    {
     "name": "stdout",
     "output_type": "stream",
     "text": [
      "Positive: 10764 , Neutral: 10514 , Negative: 8277\n"
     ]
    }
   ],
   "source": [
    "labelDistribution()"
   ]
  },
  {
   "cell_type": "markdown",
   "id": "a7ff093c",
   "metadata": {},
   "source": [
    "Let's also see how many unique words we lost when we undersampled our dataset"
   ]
  },
  {
   "cell_type": "code",
   "execution_count": 207,
   "id": "45e42509",
   "metadata": {},
   "outputs": [
    {
     "name": "stdout",
     "output_type": "stream",
     "text": [
      "Number of unique words:  48559\n"
     ]
    }
   ],
   "source": [
    "word_dict = dict()\n",
    "getNumUniqueWords()"
   ]
  },
  {
   "cell_type": "code",
   "execution_count": 191,
   "id": "c4d434ca",
   "metadata": {},
   "outputs": [
    {
     "name": "stdout",
     "output_type": "stream",
     "text": [
      "Number of samples after undersampling:  29555\n"
     ]
    }
   ],
   "source": [
    "print (\"Number of samples after undersampling: \", len(reddit_df))"
   ]
  },
  {
   "cell_type": "markdown",
   "id": "a8e1b445",
   "metadata": {},
   "source": [
    "We originally started with 37249 samples and\n",
    "have reduced our dataset to 29555 which is almost a 20% reduction of data.\n",
    "\n",
    "We originally started with 54732 unique words and\n",
    "have reduced our dataset to 48559 which is almost a ~12% reduction of unique words."
   ]
  },
  {
   "cell_type": "markdown",
   "id": "847c26b5",
   "metadata": {},
   "source": [
    "By evenly distributing our dataset in terms of labels, we have lost some uniqueness in features. \n",
    "Hopefully this trade off pays off in a more generalized model."
   ]
  },
  {
   "cell_type": "markdown",
   "id": "277b0276",
   "metadata": {},
   "source": [
    "# Feature Extraction #"
   ]
  },
  {
   "cell_type": "markdown",
   "id": "c32d4767",
   "metadata": {},
   "source": [
    "For Feature Extraction I would like to build a classification model\n",
    "that will correctly predict sentiment (-1,0,1) based on the frequency\n",
    "of the most common words in our dataset. "
   ]
  },
  {
   "cell_type": "markdown",
   "id": "990ca641",
   "metadata": {},
   "source": [
    "I would like to find the most frequent words to build our feature set."
   ]
  },
  {
   "cell_type": "code",
   "execution_count": 208,
   "id": "a186fec0",
   "metadata": {},
   "outputs": [
    {
     "name": "stdout",
     "output_type": "stream",
     "text": [
      "the -45040\n",
      "and -22696\n",
      "that -11932\n",
      "this -10640\n",
      "for -10146\n",
      "you -9091\n",
      "are -8399\n",
      "not -6938\n",
      "they -6911\n",
      "have -6589\n"
     ]
    }
   ],
   "source": [
    "count = 0\n",
    "for k, v in sorted(word_dict.items(), key=lambda item: item[1]):\n",
    "    if count < 10:\n",
    "        print (k, v)\n",
    "        count+=1\n",
    "    else:\n",
    "        break"
   ]
  },
  {
   "cell_type": "markdown",
   "id": "6beee6af",
   "metadata": {},
   "source": [
    "As we can see there is a significantly more usages of the words \"the\" and \"and\"\n",
    "hence these are outliers that I will remove from the set."
   ]
  },
  {
   "cell_type": "code",
   "execution_count": 209,
   "id": "e89e6648",
   "metadata": {},
   "outputs": [
    {
     "name": "stdout",
     "output_type": "stream",
     "text": [
      "that -11932\n",
      "this -10640\n",
      "for -10146\n",
      "you -9091\n",
      "are -8399\n",
      "not -6938\n",
      "they -6911\n",
      "have -6589\n",
      "with -6147\n",
      "but -5653\n"
     ]
    }
   ],
   "source": [
    "word_dict.pop('the')\n",
    "word_dict.pop('and')\n",
    "count = 0\n",
    "for k, v in sorted(word_dict.items(), key=lambda item: item[1]):\n",
    "    if count < 10:\n",
    "        print (k, v)\n",
    "        count+=1\n",
    "    else:\n",
    "        break"
   ]
  },
  {
   "cell_type": "markdown",
   "id": "a960264b",
   "metadata": {},
   "source": [
    "Let's now select the top 2500 words from out dictionary and assign it a number."
   ]
  },
  {
   "cell_type": "code",
   "execution_count": 210,
   "id": "42ec30db",
   "metadata": {},
   "outputs": [],
   "source": [
    "feature_set = {}\n",
    "count = 0\n",
    "for k, v in sorted(word_dict.items(), key=lambda item: item[1]):\n",
    "    if count < 2500:\n",
    "        feature_set[k] = count\n",
    "        count+=1\n",
    "    else:\n",
    "        break"
   ]
  },
  {
   "cell_type": "code",
   "execution_count": 211,
   "id": "81f0386b",
   "metadata": {},
   "outputs": [
    {
     "name": "stdout",
     "output_type": "stream",
     "text": [
      "2500\n"
     ]
    }
   ],
   "source": [
    "print (len(feature_set))"
   ]
  },
  {
   "cell_type": "markdown",
   "id": "58a58cd5",
   "metadata": {},
   "source": [
    "Let's now create each frequency feature vector for each Reddit Comment."
   ]
  },
  {
   "cell_type": "code",
   "execution_count": 212,
   "id": "81914ce0",
   "metadata": {},
   "outputs": [],
   "source": [
    "features_encoded = []\n",
    "\n",
    "for comment in reddit_df[\"clean_comment\"]:\n",
    "    split_comment = str(comment).split()\n",
    "    curr_feature_vect = np.full((1, 2500), 0)\n",
    "    for word in split_comment:\n",
    "        index = feature_set.get(word, -1)\n",
    "        if index != -1:\n",
    "            curr_feature_vect[0, index] = curr_feature_vect[0, index] + 1\n",
    "    features_encoded.append(curr_feature_vect)\n",
    "\n",
    "reddit_df[\"clean_comment_code\"] = features_encoded"
   ]
  },
  {
   "cell_type": "code",
   "execution_count": 213,
   "id": "8b088ab1",
   "metadata": {},
   "outputs": [
    {
     "name": "stdout",
     "output_type": "stream",
     "text": [
      "29555\n"
     ]
    }
   ],
   "source": [
    "print (len(reddit_df))"
   ]
  },
  {
   "cell_type": "markdown",
   "id": "8e12f389",
   "metadata": {},
   "source": [
    "Randomly shuffle our dataset."
   ]
  },
  {
   "cell_type": "code",
   "execution_count": 218,
   "id": "5b9ddd2d",
   "metadata": {},
   "outputs": [],
   "source": [
    "reddit_df = reddit_df.sample(frac=1)\n",
    "X = reddit_df[\"clean_comment_code\"].to_numpy()\n",
    "X = np.stack(X)\n",
    "X = np.reshape(X, (29555,2500))"
   ]
  },
  {
   "cell_type": "code",
   "execution_count": 219,
   "id": "bab8f25e",
   "metadata": {},
   "outputs": [
    {
     "name": "stdout",
     "output_type": "stream",
     "text": [
      "(29555, 2500)\n"
     ]
    }
   ],
   "source": [
    "print (X.shape)"
   ]
  },
  {
   "cell_type": "markdown",
   "id": "9b77837a",
   "metadata": {},
   "source": [
    "Let's see what our data looks like now, that each comment is encoded."
   ]
  },
  {
   "cell_type": "code",
   "execution_count": 220,
   "id": "4bced915",
   "metadata": {},
   "outputs": [
    {
     "name": "stdout",
     "output_type": "stream",
     "text": [
      "                                           clean_comment  category  \\\n",
      "34660                          vivirock 2016 看来键盘侠不分国界\\n         0   \n",
      "495     you wondering whether girl will get through t...         1   \n",
      "32202        she will change her name smriti hindustani          0   \n",
      "25801  seriously why are they taking this much time a...        -1   \n",
      "4737   behind all the facade pretty crass remember th...        -1   \n",
      "\n",
      "                                      clean_comment_code  \n",
      "34660  [[0, 0, 0, 0, 0, 0, 0, 0, 0, 0, 0, 0, 0, 0, 0,...  \n",
      "495    [[0, 0, 2, 1, 0, 0, 0, 0, 0, 1, 1, 0, 0, 0, 0,...  \n",
      "32202  [[0, 0, 0, 0, 0, 0, 0, 0, 0, 0, 1, 0, 0, 0, 0,...  \n",
      "25801  [[0, 1, 0, 0, 1, 0, 1, 0, 0, 0, 0, 0, 0, 0, 0,...  \n",
      "4737   [[0, 0, 0, 0, 0, 0, 0, 0, 0, 0, 0, 0, 0, 0, 1,...  \n"
     ]
    }
   ],
   "source": [
    "print (reddit_df.head(5))"
   ]
  },
  {
   "cell_type": "markdown",
   "id": "93d2247d",
   "metadata": {},
   "source": [
    "Let's now normalize the frequency feature vector so we have an easier time training our model. We are going to normalize our feature vector as a Gaussian with 0 mean and unit variance."
   ]
  },
  {
   "cell_type": "code",
   "execution_count": 221,
   "id": "b9018856",
   "metadata": {},
   "outputs": [
    {
     "data": {
      "text/plain": [
       "[<matplotlib.lines.Line2D at 0x5279ec3d0>]"
      ]
     },
     "execution_count": 221,
     "metadata": {},
     "output_type": "execute_result"
    },
    {
     "data": {
      "image/png": "[encoded data removed]",
      "text/plain": [
       "<Figure size 432x288 with 1 Axes>"
      ]
     },
     "metadata": {
      "needs_background": "light"
     },
     "output_type": "display_data"
    }
   ],
   "source": [
    "from sklearn.preprocessing import StandardScaler\n",
    "\n",
    "# plot first two features before normalization\n",
    "plt.plot(X[:,0], X[:,1], '.', color=\"orange\")\n",
    "\n",
    "# normalize\n",
    "normalize = StandardScaler()\n",
    "normalize.fit(X)\n",
    "X = scaler.transform(X)\n",
    "\n",
    "# let's now plot first two features and see what they look like after normalization\n",
    "plt.plot(X[:,0], X[:,1], '.', color=\"blue\")"
   ]
  },
  {
   "cell_type": "markdown",
   "id": "fa951c1a",
   "metadata": {},
   "source": [
    "In the plot, I have plotted the first two features of our frequency feature vector against each other.\n",
    "\n",
    "The orange represents the features before normalization.\n",
    "The blue represents the features after normalization."
   ]
  },
  {
   "cell_type": "markdown",
   "id": "1072f56d",
   "metadata": {},
   "source": [
    "# Processing of each dataset using two different machine learning methods. #"
   ]
  },
  {
   "cell_type": "markdown",
   "id": "9f86e73f",
   "metadata": {},
   "source": [
    "For this classification task I would like to use a __Naive Bayes__ model and a __Support Vector Machine__ model."
   ]
  },
  {
   "cell_type": "markdown",
   "id": "75b5d1ff",
   "metadata": {},
   "source": [
    "Split our train and test dataset. \n",
    "    - __70%__ of the dataset will be split for training.\n",
    "    - __30%__ of the dataset will be split for testing."
   ]
  },
  {
   "cell_type": "code",
   "execution_count": 222,
   "id": "71700754",
   "metadata": {},
   "outputs": [],
   "source": [
    "from sklearn.model_selection import train_test_split\n",
    "\n",
    "# extracting labels\n",
    "Y = reddit_df[\"category\"].to_numpy()\n",
    "\n",
    "# Splitting Training and Testing Dataset and Labels\n",
    "x_train, x_test, y_train, y_test = train_test_split(X, Y, test_size=0.3, random_state=0)\n"
   ]
  },
  {
   "cell_type": "markdown",
   "id": "dc32a144",
   "metadata": {},
   "source": [
    "## Naive Bayes ##"
   ]
  },
  {
   "cell_type": "markdown",
   "id": "ad9ac642",
   "metadata": {},
   "source": [
    "Naive Bayes is based on the assumption that all of our features in this data set are independent. So in our case we assume that each value in a word frequency vector is independent from each other. What we really want to learn in these generative learning algorithims is the probability of X given Y. Hence we find the log likelyhood of P(X/Y) and optimize on it. Once we have optimized the log likelyhood of P(X/Y) we have a decision boundary that allows us to accurately predict whether or not our features fall into a distribution that produces a positive comment, a negative comment, or a neutral comment. "
   ]
  },
  {
   "cell_type": "markdown",
   "id": "e7c35465",
   "metadata": {},
   "source": [
    "Here we are going to do 10 fold cross validation to get a good estimate of our models performance using Naive Bayes.\n",
    "\n",
    "Parameters of our Naive Bayes Model is set as default defined by sklearn.\n",
    "   \n",
    "   - priors=None, var_smoothing=1e-09"
   ]
  },
  {
   "cell_type": "markdown",
   "id": "064cf0c9",
   "metadata": {},
   "source": [
    "## Train/Test ##"
   ]
  },
  {
   "cell_type": "code",
   "execution_count": 246,
   "id": "ca96a8d8",
   "metadata": {},
   "outputs": [
    {
     "name": "stdout",
     "output_type": "stream",
     "text": [
      "--- training/validation time Naive Bayes: 5.034670829772949 seconds ---\n",
      "\n",
      "Test Accuracy for 10 cross validation runs:\n",
      " [0.63464141 0.64715832 0.63227334 0.63261164 0.62110961 0.63722504\n",
      " 0.66226734 0.64230118 0.63824027 0.63045685]\n",
      "\n",
      "Mean Test Accuracy: 0.637828501038354\n"
     ]
    }
   ],
   "source": [
    "import time\n",
    "from sklearn.naive_bayes import GaussianNB\n",
    "from sklearn.model_selection import KFold\n",
    "from sklearn.model_selection import cross_val_score\n",
    "\n",
    "\n",
    "naive_bayes = GaussianNB()\n",
    "\n",
    "# train\n",
    "cross_val_NB = KFold(n_splits=10, random_state=1, shuffle=True)\n",
    "\n",
    "start_time_nb = time.time()\n",
    "scores_NB = cross_val_score(naive_bayes, X, Y, scoring='accuracy', cv=cross_val_NB, n_jobs=-1)\n",
    "print (\"--- training/validation time Naive Bayes: %s seconds ---\" % (time.time() - start_time_nb))\n",
    "print ()\n",
    "print (\"Test Accuracy for 10 cross validation runs:\\n\", scores_NB)\n",
    "print ()\n",
    "print (\"Mean Test Accuracy:\", np.mean(scores_NB))"
   ]
  },
  {
   "cell_type": "markdown",
   "id": "e4fdfff3",
   "metadata": {},
   "source": [
    "## Support Vector Machine ##"
   ]
  },
  {
   "cell_type": "markdown",
   "id": "b28b8a7b",
   "metadata": {},
   "source": [
    "Support Vector Machines are a classifer that's main goal is to find the best hyperplane/classifier that maximizes the margin between the support points. Meaning that we want to find the best linear seperator between our data. \n",
    "\n",
    "Once we get the langrangian of our optimization function. We optimize to find the appropriate weights for our hyperplane."
   ]
  },
  {
   "cell_type": "markdown",
   "id": "408c44b6",
   "metadata": {},
   "source": [
    "Here we are going to do 10 fold cross validation to get a good estimate of our models performance using Support Vector Machine algorithm."
   ]
  },
  {
   "cell_type": "markdown",
   "id": "1309bbfe",
   "metadata": {},
   "source": [
    "## Train/Test ##"
   ]
  },
  {
   "cell_type": "code",
   "execution_count": 247,
   "id": "9767e52f",
   "metadata": {},
   "outputs": [
    {
     "name": "stdout",
     "output_type": "stream",
     "text": [
      "---training/validation time SVM: 15.186454057693481 seconds ---\n",
      "\n",
      "Test Accuracy for 10 cross validation runs:\n",
      " [0.84303112 0.84032476 0.8376184  0.83592693 0.83558863 0.83790186\n",
      " 0.83079526 0.83553299 0.84365482 0.8321489 ]\n",
      "\n",
      "Mean Test Accuracy: 0.8372523692097751\n"
     ]
    }
   ],
   "source": [
    "from sklearn.svm import LinearSVC\n",
    "\n",
    "svm = LinearSVC(max_iter=10000)\n",
    "\n",
    "# train\n",
    "cross_val_SVM = KFold(n_splits=10, random_state=1, shuffle=True)\n",
    "\n",
    "start_time_svm = time.time()\n",
    "scores_SVM = cross_val_score(svm, X, Y, scoring='accuracy', cv=cross_val_SVM, n_jobs=-1)\n",
    "print (\"---training/validation time SVM: %s seconds ---\" % (time.time() - start_time_svm))\n",
    "print () \n",
    "print (\"Test Accuracy for 10 cross validation runs:\\n\", scores_SVM)\n",
    "print ()\n",
    "print (\"Mean Test Accuracy:\", np.mean(scores_SVM))"
   ]
  },
  {
   "cell_type": "markdown",
   "id": "e452799c",
   "metadata": {},
   "source": [
    "## Analysis Between Naive Bayes and SVM ##"
   ]
  },
  {
   "cell_type": "code",
   "execution_count": 251,
   "id": "ff670e16",
   "metadata": {},
   "outputs": [
    {
     "data": {
      "image/png": "[encoded data removed]",
      "text/plain": [
       "<Figure size 432x288 with 1 Axes>"
      ]
     },
     "metadata": {
      "needs_background": "light"
     },
     "output_type": "display_data"
    },
    {
     "data": {
      "image/png": "[encoded data removed]",
      "text/plain": [
       "<Figure size 432x288 with 1 Axes>"
      ]
     },
     "metadata": {
      "needs_background": "light"
     },
     "output_type": "display_data"
    }
   ],
   "source": [
    "# Training Time Analysis\n",
    "time_fig = plt.figure()\n",
    "ax = time_fig.add_axes([0,0,1,1])\n",
    "categories = ['Naive Bayes', 'SVM']\n",
    "counts = [5.034, 15.186]\n",
    "ax.bar(categories, counts)\n",
    "plt.title('Training Time in Seconds')\n",
    "plt.show()\n",
    "\n",
    "# Accuracy Analysis\n",
    "acc_fig = plt.figure()\n",
    "ax = acc_fig.add_axes([0,0,1,1])\n",
    "categories = ['Naive Bayes', 'SVM']\n",
    "counts = [0.637, 0.837]\n",
    "ax.bar(categories, counts)\n",
    "plt.title('Model Accuracy')\n",
    "plt.show()"
   ]
  },
  {
   "cell_type": "markdown",
   "id": "16e6ea52",
   "metadata": {},
   "source": [
    "As we can see Naive Bayes took the shortest training time but was lacking in classification accuracy. This can be attributed to many things.\n",
    "\n",
    "\n",
    "    For one, with Naive Bayes we made a very big assumption. We assumed that the features were independent of eachother. We all know that the words in a sentence or a comment are dependent on one another. \n",
    "    \n",
    "    Secondly, Naive Bayes and SVM both devise hyperplanes to make classification predictions. But SVM picks the linear seperator that maximizes the distance between classes and the hyperplane. Hence SVM will always converge on the optimal hyperplane while Naive Bayes does not. "
   ]
  },
  {
   "cell_type": "code",
   "execution_count": null,
   "id": "bb5768dd",
   "metadata": {},
   "outputs": [],
   "source": []
  }
 ],
 "metadata": {
  "kernelspec": {
   "display_name": "Python 3 (ipykernel)",
   "language": "python",
   "name": "python3"
  },
  "language_info": {
   "codemirror_mode": {
    "name": "ipython",
    "version": 3
   },
   "file_extension": ".py",
   "mimetype": "text/x-python",
   "name": "python",
   "nbconvert_exporter": "python",
   "pygments_lexer": "ipython3",
   "version": "3.9.9"
  }
 },
 "nbformat": 4,
 "nbformat_minor": 5
}
