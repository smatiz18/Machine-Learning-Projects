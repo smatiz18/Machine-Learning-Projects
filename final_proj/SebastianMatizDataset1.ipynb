{
 "cells": [
  {
   "cell_type": "code",
   "execution_count": 1,
   "id": "4310d1ba",
   "metadata": {},
   "outputs": [],
   "source": [
    "import numpy as np\n",
    "import pandas as pd\n",
    "import matplotlib.pyplot as plt"
   ]
  },
  {
   "cell_type": "code",
   "execution_count": 2,
   "id": "c9baf8d9",
   "metadata": {},
   "outputs": [
    {
     "name": "stderr",
     "output_type": "stream",
     "text": [
      "/var/folders/s8/h_031z5d7mbf8ckkr3tnb9rw0000gn/T/ipykernel_1947/3227316114.py:1: DtypeWarning: Columns (25,108) have mixed types. Specify dtype option on import or set low_memory=False.\n",
      "  players_df = pd.read_csv('players_22.csv')\n"
     ]
    }
   ],
   "source": [
    "players_df = pd.read_csv('players_22.csv')"
   ]
  },
  {
   "cell_type": "markdown",
   "id": "24e40f59",
   "metadata": {},
   "source": [
    "# Exploration of Dataset"
   ]
  },
  {
   "cell_type": "code",
   "execution_count": 3,
   "id": "19fe19c7",
   "metadata": {},
   "outputs": [
    {
     "name": "stdout",
     "output_type": "stream",
     "text": [
      "shape: (19239, 110)\n"
     ]
    }
   ],
   "source": [
    "print (\"shape:\", players_df.shape)\n",
    "num_samples = players_df.shape[0]"
   ]
  },
  {
   "cell_type": "code",
   "execution_count": 4,
   "id": "7cfc85b1",
   "metadata": {},
   "outputs": [
    {
     "name": "stdout",
     "output_type": "stream",
     "text": [
      "axes: [RangeIndex(start=0, stop=19239, step=1), Index(['sofifa_id', 'player_url', 'short_name', 'long_name',\n",
      "       'player_positions', 'overall', 'potential', 'value_eur', 'wage_eur',\n",
      "       'age',\n",
      "       ...\n",
      "       'lcb', 'cb', 'rcb', 'rb', 'gk', 'player_face_url', 'club_logo_url',\n",
      "       'club_flag_url', 'nation_logo_url', 'nation_flag_url'],\n",
      "      dtype='object', length=110)]\n"
     ]
    }
   ],
   "source": [
    "print (\"axes:\", players_df.axes)"
   ]
  },
  {
   "cell_type": "code",
   "execution_count": 5,
   "id": "2df71296",
   "metadata": {},
   "outputs": [
    {
     "name": "stdout",
     "output_type": "stream",
     "text": [
      "dtypes: sofifa_id            int64\n",
      "player_url          object\n",
      "short_name          object\n",
      "long_name           object\n",
      "player_positions    object\n",
      "                     ...  \n",
      "player_face_url     object\n",
      "club_logo_url       object\n",
      "club_flag_url       object\n",
      "nation_logo_url     object\n",
      "nation_flag_url     object\n",
      "Length: 110, dtype: object\n"
     ]
    }
   ],
   "source": [
    "print (\"dtypes:\",players_df.dtypes)"
   ]
  },
  {
   "cell_type": "code",
   "execution_count": 6,
   "id": "d2422f81",
   "metadata": {},
   "outputs": [
    {
     "name": "stdout",
     "output_type": "stream",
     "text": [
      "   sofifa_id                                         player_url  \\\n",
      "0     158023  https://sofifa.com/player/158023/lionel-messi/...   \n",
      "1     188545  https://sofifa.com/player/188545/robert-lewand...   \n",
      "2      20801  https://sofifa.com/player/20801/c-ronaldo-dos-...   \n",
      "3     190871  https://sofifa.com/player/190871/neymar-da-sil...   \n",
      "4     192985  https://sofifa.com/player/192985/kevin-de-bruy...   \n",
      "5     200389  https://sofifa.com/player/200389/jan-oblak/220002   \n",
      "6     231747  https://sofifa.com/player/231747/kylian-mbappe...   \n",
      "7     167495  https://sofifa.com/player/167495/manuel-neuer/...   \n",
      "8     192448  https://sofifa.com/player/192448/marc-andre-te...   \n",
      "9     202126  https://sofifa.com/player/202126/harry-kane/22...   \n",
      "\n",
      "          short_name                            long_name player_positions  \\\n",
      "0           L. Messi       Lionel Andrés Messi Cuccittini       RW, ST, CF   \n",
      "1     R. Lewandowski                   Robert Lewandowski               ST   \n",
      "2  Cristiano Ronaldo  Cristiano Ronaldo dos Santos Aveiro           ST, LW   \n",
      "3          Neymar Jr        Neymar da Silva Santos Júnior          LW, CAM   \n",
      "4       K. De Bruyne                      Kevin De Bruyne          CM, CAM   \n",
      "5           J. Oblak                            Jan Oblak               GK   \n",
      "6          K. Mbappé                 Kylian Mbappé Lottin           ST, LW   \n",
      "7           M. Neuer                   Manuel Peter Neuer               GK   \n",
      "8      M. ter Stegen                Marc-André ter Stegen               GK   \n",
      "9            H. Kane                           Harry Kane               ST   \n",
      "\n",
      "   overall  potential    value_eur  wage_eur  age  ...   lcb    cb   rcb  \\\n",
      "0       93         93   78000000.0  320000.0   34  ...  50+3  50+3  50+3   \n",
      "1       92         92  119500000.0  270000.0   32  ...  60+3  60+3  60+3   \n",
      "2       91         91   45000000.0  270000.0   36  ...  53+3  53+3  53+3   \n",
      "3       91         91  129000000.0  270000.0   29  ...  50+3  50+3  50+3   \n",
      "4       91         91  125500000.0  350000.0   30  ...  69+3  69+3  69+3   \n",
      "5       91         93  112000000.0  130000.0   28  ...  33+3  33+3  33+3   \n",
      "6       91         95  194000000.0  230000.0   22  ...  54+3  54+3  54+3   \n",
      "7       90         90   13500000.0   86000.0   35  ...  34+3  34+3  34+3   \n",
      "8       90         92   99000000.0  250000.0   29  ...  33+3  33+3  33+3   \n",
      "9       90         90  129500000.0  240000.0   27  ...  61+3  61+3  61+3   \n",
      "\n",
      "     rb    gk                                    player_face_url  \\\n",
      "0  61+3  19+3  https://cdn.sofifa.net/players/158/023/22_120.png   \n",
      "1  61+3  19+3  https://cdn.sofifa.net/players/188/545/22_120.png   \n",
      "2  60+3  20+3  https://cdn.sofifa.net/players/020/801/22_120.png   \n",
      "3  62+3  20+3  https://cdn.sofifa.net/players/190/871/22_120.png   \n",
      "4  75+3  21+3  https://cdn.sofifa.net/players/192/985/22_120.png   \n",
      "5  32+3  89+3  https://cdn.sofifa.net/players/200/389/22_120.png   \n",
      "6  63+3  18+3  https://cdn.sofifa.net/players/231/747/22_120.png   \n",
      "7  35+3  88+2  https://cdn.sofifa.net/players/167/495/22_120.png   \n",
      "8  31+3  88+3  https://cdn.sofifa.net/players/192/448/22_120.png   \n",
      "9  64+3  20+3  https://cdn.sofifa.net/players/202/126/22_120.png   \n",
      "\n",
      "                             club_logo_url  \\\n",
      "0   https://cdn.sofifa.net/teams/73/60.png   \n",
      "1   https://cdn.sofifa.net/teams/21/60.png   \n",
      "2   https://cdn.sofifa.net/teams/11/60.png   \n",
      "3   https://cdn.sofifa.net/teams/73/60.png   \n",
      "4   https://cdn.sofifa.net/teams/10/60.png   \n",
      "5  https://cdn.sofifa.net/teams/240/60.png   \n",
      "6   https://cdn.sofifa.net/teams/73/60.png   \n",
      "7   https://cdn.sofifa.net/teams/21/60.png   \n",
      "8  https://cdn.sofifa.net/teams/241/60.png   \n",
      "9   https://cdn.sofifa.net/teams/18/60.png   \n",
      "\n",
      "                             club_flag_url  \\\n",
      "0      https://cdn.sofifa.net/flags/fr.png   \n",
      "1      https://cdn.sofifa.net/flags/de.png   \n",
      "2  https://cdn.sofifa.net/flags/gb-eng.png   \n",
      "3      https://cdn.sofifa.net/flags/fr.png   \n",
      "4  https://cdn.sofifa.net/flags/gb-eng.png   \n",
      "5      https://cdn.sofifa.net/flags/es.png   \n",
      "6      https://cdn.sofifa.net/flags/fr.png   \n",
      "7      https://cdn.sofifa.net/flags/de.png   \n",
      "8      https://cdn.sofifa.net/flags/es.png   \n",
      "9  https://cdn.sofifa.net/flags/gb-eng.png   \n",
      "\n",
      "                            nation_logo_url  \\\n",
      "0  https://cdn.sofifa.net/teams/1369/60.png   \n",
      "1  https://cdn.sofifa.net/teams/1353/60.png   \n",
      "2  https://cdn.sofifa.net/teams/1354/60.png   \n",
      "3                                       NaN   \n",
      "4  https://cdn.sofifa.net/teams/1325/60.png   \n",
      "5                                       NaN   \n",
      "6  https://cdn.sofifa.net/teams/1335/60.png   \n",
      "7  https://cdn.sofifa.net/teams/1337/60.png   \n",
      "8                                       NaN   \n",
      "9  https://cdn.sofifa.net/teams/1318/60.png   \n",
      "\n",
      "                           nation_flag_url  \n",
      "0      https://cdn.sofifa.net/flags/ar.png  \n",
      "1      https://cdn.sofifa.net/flags/pl.png  \n",
      "2      https://cdn.sofifa.net/flags/pt.png  \n",
      "3      https://cdn.sofifa.net/flags/br.png  \n",
      "4      https://cdn.sofifa.net/flags/be.png  \n",
      "5      https://cdn.sofifa.net/flags/si.png  \n",
      "6      https://cdn.sofifa.net/flags/fr.png  \n",
      "7      https://cdn.sofifa.net/flags/de.png  \n",
      "8      https://cdn.sofifa.net/flags/de.png  \n",
      "9  https://cdn.sofifa.net/flags/gb-eng.png  \n",
      "\n",
      "[10 rows x 110 columns]\n"
     ]
    }
   ],
   "source": [
    "print (players_df.head(10))"
   ]
  },
  {
   "cell_type": "markdown",
   "id": "b61213a6",
   "metadata": {},
   "source": [
    "# Pre-processing of Data Set  #"
   ]
  },
  {
   "cell_type": "markdown",
   "id": "a1ac38d8",
   "metadata": {},
   "source": [
    "Removing Features that won't be useful for linear regression of a players overall rating.\n",
    "\n",
    "Columns to be removed:\n",
    "\n",
    "\n",
    "    - sofifa_id\n",
    "    - player_url\n",
    "    - short_name\n",
    "    - long_name\n",
    "    - club_loaned_from\n",
    "    - nationality_id\n",
    "    - nation_team_id\n",
    "    - real_face\n",
    "    - player_face_url\n",
    "    - club_logo_url\n",
    "    - club_flag_url\n",
    "    - nation_logo_url\n",
    "    - nation_flag_url\n",
    "    - dob, we already have age\n",
    "    \n",
    "    \n",
    "Columns to be changed/encoded:\n",
    "    \n",
    "    \n",
    "    \n",
    "    - player_positions will have to be assigned a numerical value\n",
    "    - club_name will be assigned a double value\n",
    "    - league_name will be assigned a double value\n",
    "    - club_position will be assigned a double value\n",
    "    - club_joined/club_contract valid until will be merged to contract length by year\n",
    "    - nationality_name will be converted into double\n",
    "    - nation_position will be assigned a double value\n",
    "    - prefered_foot will be assigned a double value\n",
    "    - work_rate will be assigned a double value\n",
    "    - body_type will be assigned a double value\n",
    "    - player_tags will be assigned a double value \n",
    "    - player_traits will be assigned a double value\n",
    "    - ls - gk will be updated to a double value\n",
    "    \n",
    "    "
   ]
  },
  {
   "cell_type": "markdown",
   "id": "c30a2c5d",
   "metadata": {},
   "source": [
    "Dropping unnecessary features."
   ]
  },
  {
   "cell_type": "code",
   "execution_count": 7,
   "id": "3af7455b",
   "metadata": {},
   "outputs": [],
   "source": [
    "# Drop unnecessary features\n",
    "players_df.drop([\"sofifa_id\", \"player_url\", \"short_name\", \"long_name\", \"club_loaned_from\", \"nationality_id\", \"nation_team_id\", \"real_face\", \"player_face_url\", \"club_logo_url\", \"club_flag_url\", \"nation_logo_url\", \"nation_flag_url\", \"dob\"], axis=1, inplace=True)"
   ]
  },
  {
   "cell_type": "markdown",
   "id": "ec656417",
   "metadata": {},
   "source": [
    "Insuring that these categorical traits have only one value, for simplicities sake"
   ]
  },
  {
   "cell_type": "code",
   "execution_count": 8,
   "id": "a700b38b",
   "metadata": {},
   "outputs": [],
   "source": [
    "# Insuring that these categorical traits have only one value, for simplicities sake\n",
    "from sklearn.preprocessing import OrdinalEncoder\n",
    "\n",
    "multiCatVals = [\"player_tags\", \"player_traits\", \"player_positions\", \"club_position\", \"nation_position\"]\n",
    "# Making a player only have one categorical attribute\n",
    "def makeOneCatAtt(colName):\n",
    "    col = players_df.loc[:,[colName]]\n",
    "    for i in range(num_samples):\n",
    "        players_df.loc[i, [colName]] = str(col.iloc[i][0]).split(\",\")[0]\n",
    "    "
   ]
  },
  {
   "cell_type": "code",
   "execution_count": 9,
   "id": "6fd4fde2",
   "metadata": {},
   "outputs": [],
   "source": [
    "for i in multiCatVals:\n",
    "    makeOneCatAtt(i)"
   ]
  },
  {
   "cell_type": "markdown",
   "id": "75a9ee08",
   "metadata": {},
   "source": [
    "Encoding categorical values as numbers."
   ]
  },
  {
   "cell_type": "code",
   "execution_count": 10,
   "id": "1f1a2b01",
   "metadata": {
    "scrolled": true
   },
   "outputs": [
    {
     "name": "stdout",
     "output_type": "stream",
     "text": [
      "   player_tags_code        player_tags\n",
      "0               5.0          #Dribbler\n",
      "1               1.0     #Aerial Threat\n",
      "2               1.0     #Aerial Threat\n",
      "3              11.0         #Speedster\n",
      "4               5.0          #Dribbler\n",
      "5              17.0                nan\n",
      "6              11.0         #Speedster\n",
      "7              17.0                nan\n",
      "8              17.0                nan\n",
      "9               4.0  #Distance Shooter\n",
      "   player_traits_code       player_traits\n",
      "0                 5.0        Finesse Shot\n",
      "1                20.0        Solid Player\n",
      "2                16.0     Power Free-Kick\n",
      "3                 9.0        Injury Prone\n",
      "4                 9.0        Injury Prone\n",
      "5                 7.0       GK Long Throw\n",
      "6                 6.0               Flair\n",
      "7                10.0          Leadership\n",
      "8                18.0  Rushes Out Of Goal\n",
      "9                10.0          Leadership\n",
      "   player_positions_code player_positions\n",
      "0                   12.0               RW\n",
      "1                   14.0               ST\n",
      "2                   14.0               ST\n",
      "3                    8.0               LW\n",
      "4                    4.0               CM\n",
      "5                    5.0               GK\n",
      "6                   14.0               ST\n",
      "7                    5.0               GK\n",
      "8                    5.0               GK\n",
      "9                   14.0               ST\n",
      "   player_positions_code player_positions\n",
      "0                   12.0               RW\n",
      "1                   14.0               ST\n",
      "2                   14.0               ST\n",
      "3                    8.0               LW\n",
      "4                    4.0               CM\n",
      "5                    5.0               GK\n",
      "6                   14.0               ST\n",
      "7                    5.0               GK\n",
      "8                    5.0               GK\n",
      "9                   14.0               ST\n",
      "   club_position_code club_position\n",
      "0                25.0            RW\n",
      "1                27.0            ST\n",
      "2                27.0            ST\n",
      "3                14.0            LW\n",
      "4                19.0           RCM\n",
      "5                 5.0            GK\n",
      "6                27.0            ST\n",
      "7                 5.0            GK\n",
      "8                 5.0            GK\n",
      "9                27.0            ST\n",
      "   nation_position_code nation_position\n",
      "0                  24.0              RW\n",
      "1                  23.0              RS\n",
      "2                  26.0              ST\n",
      "3                  28.0             nan\n",
      "4                  19.0             RCM\n",
      "5                  28.0             nan\n",
      "6                  14.0              LW\n",
      "7                   5.0              GK\n",
      "8                  28.0             nan\n",
      "9                  26.0              ST\n",
      "   club_name_code            club_name\n",
      "0           470.0  Paris Saint-Germain\n",
      "1           241.0    FC Bayern München\n",
      "2           412.0    Manchester United\n",
      "3           470.0  Paris Saint-Germain\n",
      "4           411.0      Manchester City\n",
      "5            69.0   Atlético de Madrid\n",
      "6           470.0  Paris Saint-Germain\n",
      "7           241.0    FC Bayern München\n",
      "8           239.0         FC Barcelona\n",
      "9           630.0    Tottenham Hotspur\n",
      "   league_name_code             league_name\n",
      "0              19.0          French Ligue 1\n",
      "1              21.0    German 1. Bundesliga\n",
      "2              17.0  English Premier League\n",
      "3              19.0          French Ligue 1\n",
      "4              17.0  English Premier League\n",
      "5              45.0  Spain Primera Division\n",
      "6              19.0          French Ligue 1\n",
      "7              21.0    German 1. Bundesliga\n",
      "8              45.0  Spain Primera Division\n",
      "9              17.0  English Premier League\n",
      "   nationality_name_code nationality_name\n",
      "0                    6.0        Argentina\n",
      "1                  123.0           Poland\n",
      "2                  124.0         Portugal\n",
      "3                   20.0           Brazil\n",
      "4                   13.0          Belgium\n",
      "5                  137.0         Slovenia\n",
      "6                   56.0           France\n",
      "7                   60.0          Germany\n",
      "8                   60.0          Germany\n",
      "9                   48.0          England\n",
      "   preferred_foot_code preferred_foot\n",
      "0                  0.0           Left\n",
      "1                  1.0          Right\n",
      "2                  1.0          Right\n",
      "3                  1.0          Right\n",
      "4                  1.0          Right\n",
      "5                  1.0          Right\n",
      "6                  1.0          Right\n",
      "7                  1.0          Right\n",
      "8                  1.0          Right\n",
      "9                  1.0          Right\n",
      "   work_rate_code      work_rate\n",
      "0             7.0     Medium/Low\n",
      "1             2.0    High/Medium\n",
      "2             1.0       High/Low\n",
      "3             2.0    High/Medium\n",
      "4             0.0      High/High\n",
      "5             8.0  Medium/Medium\n",
      "6             1.0       High/Low\n",
      "7             8.0  Medium/Medium\n",
      "8             8.0  Medium/Medium\n",
      "9             0.0      High/High\n",
      "   body_type_code body_type\n",
      "0             9.0    Unique\n",
      "1             9.0    Unique\n",
      "2             9.0    Unique\n",
      "3             9.0    Unique\n",
      "4             9.0    Unique\n",
      "5             9.0    Unique\n",
      "6             9.0    Unique\n",
      "7             9.0    Unique\n",
      "8             9.0    Unique\n",
      "9             9.0    Unique\n"
     ]
    }
   ],
   "source": [
    "# Encoding categorical values\n",
    "catVals = [\"player_tags\", \"player_traits\", \"player_positions\", \"player_positions\", \"club_position\", \"nation_position\", \"club_name\", \"league_name\", \"nationality_name\", \"preferred_foot\", \"work_rate\", \"body_type\"]\n",
    "def encodeCol(colName):\n",
    "   ord_enc = OrdinalEncoder()\n",
    "   newColName = colName + \"_code\"\n",
    "   players_df[newColName] = ord_enc.fit_transform(players_df[[colName]])\n",
    "   print (players_df[[newColName, colName]].head(10))\n",
    "\n",
    "for i in catVals:\n",
    "    encodeCol(i)"
   ]
  },
  {
   "cell_type": "markdown",
   "id": "b61d9daa",
   "metadata": {},
   "source": [
    "Dropping the columns that are no longer needed because they have been encoded. "
   ]
  },
  {
   "cell_type": "code",
   "execution_count": 11,
   "id": "d711dcc8",
   "metadata": {},
   "outputs": [],
   "source": [
    "players_df.drop(catVals, axis=1, inplace=True)"
   ]
  },
  {
   "cell_type": "markdown",
   "id": "017bb64a",
   "metadata": {},
   "source": [
    "Adjusting the ls - gk columns because they were numbers that had either '+' or '-' attached to them. \n",
    "So I removed the unnecessary characters and just left the numbers."
   ]
  },
  {
   "cell_type": "code",
   "execution_count": 12,
   "id": "0b23d9ef",
   "metadata": {},
   "outputs": [],
   "source": [
    "# Adjusting the ls - gk columns\n",
    "import re\n",
    "\n",
    "ls_gkCols = [\"ls\",\"st\",\"rs\",\"lw\",\"lf\",\"cf\",\"rf\",\"rw\",\"lam\",\"cam\",\"ram\",\"lm\",\"lcm\",\"cm\",\"rcm\",\"rm\",\"lwb\",\"ldm\",\"cdm\",\"rdm\",\"rwb\",\"lb\",\"lcb\",\"cb\",\"rcb\",\"rb\",\"gk\"]\n",
    "for i in ls_gkCols:\n",
    "    col = players_df.loc[:,[i]]\n",
    "    for j in range(num_samples):\n",
    "        currString = str(col.iloc[j][0])\n",
    "        split_string = re.split(r'[-+]', currString)\n",
    "        players_df.loc[j, [i]] = float(split_string[0])\n",
    "        "
   ]
  },
  {
   "cell_type": "markdown",
   "id": "24eba4a9",
   "metadata": {},
   "source": [
    "I made a new column called contract_length that was derived from 'club_contract_valid_until' - 'club_joined'."
   ]
  },
  {
   "cell_type": "code",
   "execution_count": 13,
   "id": "0967a5ee",
   "metadata": {},
   "outputs": [],
   "source": [
    "# making new col: contract length\n",
    "club_joined = players_df.loc[:,[\"club_joined\"]]\n",
    "for i in range(num_samples):\n",
    "    club_joined.iloc[i][0] = float(str(club_joined.iloc[i][0]).split('-')[0])\n",
    "club_joined = club_joined.to_numpy()\n",
    "club_contract_valid_until = players_df.loc[:,[\"club_contract_valid_until\"]].to_numpy()\n",
    "\n",
    "contract_length = np.subtract(club_contract_valid_until, club_joined)\n",
    "players_df[\"contract_length\"] = contract_length\n",
    "players_df.drop([\"club_joined\", \"club_contract_valid_until\"], axis=1, inplace=True)"
   ]
  },
  {
   "cell_type": "markdown",
   "id": "6db9a279",
   "metadata": {},
   "source": [
    "After this is all done I replaced all empty features as the numerical value 0."
   ]
  },
  {
   "cell_type": "code",
   "execution_count": 14,
   "id": "9e1e9002",
   "metadata": {},
   "outputs": [],
   "source": [
    "players_df = players_df.replace(np.nan, 0)"
   ]
  },
  {
   "cell_type": "code",
   "execution_count": 15,
   "id": "a59df9bd",
   "metadata": {},
   "outputs": [
    {
     "name": "stdout",
     "output_type": "stream",
     "text": [
      "overall                        93.0\n",
      "potential                      93.0\n",
      "value_eur                78000000.0\n",
      "wage_eur                   320000.0\n",
      "age                            34.0\n",
      "                            ...    \n",
      "nationality_name_code           6.0\n",
      "preferred_foot_code             0.0\n",
      "work_rate_code                  7.0\n",
      "body_type_code                  9.0\n",
      "contract_length                 2.0\n",
      "Name: 0, Length: 95, dtype: float64\n",
      "(19239, 95)\n"
     ]
    }
   ],
   "source": [
    "# Check to make sure we have appropriate data types for all our features\n",
    "# print (\"dtypes:\",players_df.dtypes)\n",
    "print (players_df.iloc[0])\n",
    "print (players_df.shape)"
   ]
  },
  {
   "cell_type": "markdown",
   "id": "72ad41c4",
   "metadata": {},
   "source": [
    "# Feature Extraction #"
   ]
  },
  {
   "cell_type": "markdown",
   "id": "e4e85485",
   "metadata": {},
   "source": [
    "Let's now normalize the features so we have an easier time training our model. We are going to normalize our features as a Gaussian with 0 mean and unit variance."
   ]
  },
  {
   "cell_type": "code",
   "execution_count": 16,
   "id": "52fdaf53",
   "metadata": {},
   "outputs": [
    {
     "data": {
      "text/plain": [
       "[<matplotlib.lines.Line2D at 0x12fc3edf0>]"
      ]
     },
     "execution_count": 16,
     "metadata": {},
     "output_type": "execute_result"
    },
    {
     "data": {
      "image/png": "[encoded data removed]",
      "text/plain": [
       "<Figure size 432x288 with 1 Axes>"
      ]
     },
     "metadata": {
      "needs_background": "light"
     },
     "output_type": "display_data"
    }
   ],
   "source": [
    "from sklearn.decomposition import PCA\n",
    "from sklearn.preprocessing import StandardScaler\n",
    "\n",
    "# insuring that we shuffle the dataset\n",
    "players_df = players_df.sample(frac=1)\n",
    "\n",
    "Y = players_df.pop(\"overall\").to_numpy()\n",
    "players_np = players_df.to_numpy()\n",
    "\n",
    "# plot first two features before normalization\n",
    "plt.plot(players_np[:,0], players_np[:,1], '.', color=\"orange\")\n",
    "\n",
    "# Z-score the features a.k.a normalize\n",
    "z = StandardScaler()\n",
    "z.fit(players_np)\n",
    "players_np = z.transform(players_np)\n",
    "\n",
    "# let's now plot first two features and see what they look like after normalization\n",
    "plt.plot(players_np[:,0], players_np[:,1], '.', color=\"blue\")\n"
   ]
  },
  {
   "cell_type": "markdown",
   "id": "d3e16749",
   "metadata": {},
   "source": [
    "### Preforming PCA ###"
   ]
  },
  {
   "cell_type": "markdown",
   "id": "e363a6e8",
   "metadata": {},
   "source": [
    "Since we still have many features and would like to minimize computation I will use Principle Component Analysis to reduce the number of features that we will use. I have chosen to project our data to the top 70 Principle Components."
   ]
  },
  {
   "cell_type": "code",
   "execution_count": 17,
   "id": "2608696f",
   "metadata": {},
   "outputs": [
    {
     "name": "stdout",
     "output_type": "stream",
     "text": [
      "Normalized and Feature Extracted Dataset Shape:\n",
      " (19239, 70)\n"
     ]
    }
   ],
   "source": [
    "# The PCA model\n",
    "pca = PCA(n_components=70) # estimate 70 most important components\n",
    "players_np_PCA = pca.fit_transform(players_np) # project the original data into the PCA space\n",
    "print (\"Normalized and Feature Extracted Dataset Shape:\\n\", players_np_PCA.shape)"
   ]
  },
  {
   "cell_type": "markdown",
   "id": "7403a018",
   "metadata": {},
   "source": [
    "# Processing of each dataset using two different machine learning methods. #"
   ]
  },
  {
   "cell_type": "markdown",
   "id": "1b4000a3",
   "metadata": {},
   "source": [
    "I will be implementing Linear Regression in two ways to predict a players overall rating:\n",
    "\n",
    "- Ordinary Least Squares Linear Regression\n",
    "- Stochastic Gradient Descent"
   ]
  },
  {
   "cell_type": "markdown",
   "id": "87e7224f",
   "metadata": {},
   "source": [
    "## Ordinary Least Squares Linear Regression ##"
   ]
  },
  {
   "cell_type": "markdown",
   "id": "81535a0e",
   "metadata": {},
   "source": [
    "Ordinary Least Sqaures regression minimizes the sum of the square distances between the actual and predicted values. Hence we optimize this function to find the optimal parameters for our model."
   ]
  },
  {
   "cell_type": "markdown",
   "id": "947057f4",
   "metadata": {},
   "source": [
    "Here we are going to do 10 fold cross validation to get a good estimate of our models performance using Ordinary Least Sqaures Regression\n",
    "\n",
    "Parameters of our Ordinary Least Sqaures model is set as default defined by sklearn.\n",
    "\n",
    "(*, fit_intercept=True, normalize='deprecated', copy_X=True, n_jobs=None, positive=False)"
   ]
  },
  {
   "cell_type": "markdown",
   "id": "4733f7f3",
   "metadata": {},
   "source": [
    "## Train/Test ##"
   ]
  },
  {
   "cell_type": "code",
   "execution_count": 23,
   "id": "34f5e6cc",
   "metadata": {},
   "outputs": [
    {
     "name": "stdout",
     "output_type": "stream",
     "text": [
      "--- training/validation time OLS: 0.379957914352417 seconds ---\n",
      "\n",
      "Root Mean Squared Error for 10 cross validation runs:\n",
      " [-2.84224372 -2.93310826 -2.80228278 -2.7894339  -2.93443815 -2.8995149\n",
      " -2.95007093 -3.02385463 -2.87561282 -2.83691919]\n",
      "\n",
      "Root Mean Squared Error: -2.8887479277212362\n"
     ]
    }
   ],
   "source": [
    "import time\n",
    "from sklearn.linear_model import LinearRegression\n",
    "from sklearn.model_selection import KFold\n",
    "from sklearn.model_selection import cross_val_score\n",
    "\n",
    "\n",
    "ols = LinearRegression()\n",
    "\n",
    "# 10 fold cross val\n",
    "cross_val_ols = KFold(n_splits=10, random_state=1, shuffle=True)\n",
    "\n",
    "start_time_ols = time.time()\n",
    "scores_ols = cross_val_score(ols, players_np_PCA, Y, scoring='neg_mean_squared_error', cv=cross_val_ols, n_jobs=-1)\n",
    "print (\"--- training/validation time OLS: %s seconds ---\" % (time.time() - start_time_ols))\n",
    "print ()\n",
    "print (\"Root Mean Squared Error for 10 cross validation runs:\\n\", scores_ols)\n",
    "print ()\n",
    "print (\"Root Mean Squared Error:\", np.mean(scores_ols))"
   ]
  },
  {
   "cell_type": "markdown",
   "id": "de0ee588",
   "metadata": {},
   "source": [
    "## Stochastic Gradient Descent for Linear Regression ##"
   ]
  },
  {
   "cell_type": "markdown",
   "id": "be0872b3",
   "metadata": {},
   "source": [
    "Stochastic Gradient Descent for linear regression minimizes the sqaured loss between between the actual and predicted values. We optimize this function with respect to the weights for each feature along with the intercept.\n",
    "After each epoch the weights are updated based on the gradient and learning rate that we have defined. w = w - learning_rate*(dL/dW)."
   ]
  },
  {
   "cell_type": "markdown",
   "id": "7da413ca",
   "metadata": {},
   "source": [
    "Here we are going to do 10 fold cross validation to get a good estimate of our models performance using Stochastic Gradient Descent\n",
    "\n",
    "Parameters of our Stochastic Gradient Descent model is set as default defined by sklearn.\n",
    "\n",
    "(loss='squared_error', *, penalty='l2', alpha=0.0001, l1_ratio=0.15, fit_intercept=True, max_iter=1000, tol=0.001, shuffle=True, verbose=0, epsilon=0.1, random_state=None, learning_rate='invscaling', eta0=0.01, power_t=0.25, early_stopping=False, validation_fraction=0.1, n_iter_no_change=5, warm_start=False, average=False)"
   ]
  },
  {
   "cell_type": "markdown",
   "id": "d69472a8",
   "metadata": {},
   "source": [
    "## Train/Test ##"
   ]
  },
  {
   "cell_type": "code",
   "execution_count": 24,
   "id": "f7b7906d",
   "metadata": {},
   "outputs": [
    {
     "name": "stdout",
     "output_type": "stream",
     "text": [
      "--- training/validation time SGD: 0.33698415756225586 seconds ---\n",
      "\n",
      "Root Mean Square Error for 10 cross validation runs:\n",
      " [-2.90475518 -2.98025986 -2.84185609 -2.82100277 -2.99373385 -2.90565315\n",
      " -2.95920732 -3.08955548 -2.93502965 -2.92173168]\n",
      "\n",
      "Root Mean Squared Error: -2.8887479277212362\n"
     ]
    }
   ],
   "source": [
    "from sklearn.linear_model import SGDRegressor\n",
    "\n",
    "sgd = SGDRegressor()\n",
    "\n",
    "# 10 fold cross val\n",
    "cross_val_sgd = KFold(n_splits=10, random_state=1, shuffle=True)\n",
    "\n",
    "start_time_sgd = time.time()\n",
    "scores_sgd = cross_val_score(sgd, players_np_PCA, Y, scoring='neg_mean_squared_error', cv=cross_val_sgd, n_jobs=-1)\n",
    "print (\"--- training/validation time SGD: %s seconds ---\" % (time.time() - start_time_sgd))\n",
    "print ()\n",
    "print (\"Root Mean Square Error for 10 cross validation runs:\\n\", scores_sgd)\n",
    "print ()\n",
    "print (\"Root Mean Squared Error:\", np.mean(scores_ols))"
   ]
  },
  {
   "cell_type": "code",
   "execution_count": 27,
   "id": "454829d7",
   "metadata": {},
   "outputs": [
    {
     "name": "stdout",
     "output_type": "stream",
     "text": [
      "Num Features:  70\n",
      "Num Samples in training:  13468\n"
     ]
    }
   ],
   "source": [
    "# split into training and testing sets\n",
    "# 70% of dataset for test, 30% of dataset for training \n",
    "x_train = players_np_PCA[0:13468]\n",
    "y_train = Y[0:13468]\n",
    "x_test = players_np_PCA[13468:19239]\n",
    "y_test = Y[13468:19239]\n",
    "\n",
    "num_train_features = len(x_train[0])\n",
    "num_train_samples = len(x_train)\n",
    "print (\"Num Features: \", num_train_features)\n",
    "print (\"Num Samples in training: \", num_train_samples)\n"
   ]
  },
  {
   "cell_type": "markdown",
   "id": "10c4ac8d",
   "metadata": {},
   "source": [
    "## (Actual vs Predicted) for OLS visualized ##"
   ]
  },
  {
   "cell_type": "code",
   "execution_count": 31,
   "id": "f6f26c93",
   "metadata": {},
   "outputs": [
    {
     "name": "stdout",
     "output_type": "stream",
     "text": [
      "R-Score OLS: 0.9401321934853081\n",
      "R Score for Test X and Test Y:\n",
      "0.937734951322756 \n",
      "\n"
     ]
    },
    {
     "data": {
      "text/plain": [
       "[<matplotlib.lines.Line2D at 0x129742820>]"
      ]
     },
     "execution_count": 31,
     "metadata": {},
     "output_type": "execute_result"
    },
    {
     "data": {
      "image/png": "[encoded data removed]",
      "text/plain": [
       "<Figure size 432x288 with 1 Axes>"
      ]
     },
     "metadata": {
      "needs_background": "light"
     },
     "output_type": "display_data"
    }
   ],
   "source": [
    "# train\n",
    "modelOLS = LinearRegression().fit(x_train, y_train)\n",
    "print (\"R-Score OLS:\", modelOLS.score(x_train, y_train))\n",
    "y_pred_sgd = modelOLS.predict(x_test)\n",
    "print (\"R Score for Test X and Test Y:\")\n",
    "print (modelOLS.score(x_test, y_test), \"\\n\")\n",
    "plt.plot(y_test, y_pred_sgd, '.')"
   ]
  },
  {
   "cell_type": "markdown",
   "id": "8be7b40b",
   "metadata": {},
   "source": [
    "## (Actual vs Predicted) for SGD visualized ##"
   ]
  },
  {
   "cell_type": "code",
   "execution_count": 32,
   "id": "0f269aa7",
   "metadata": {},
   "outputs": [
    {
     "name": "stdout",
     "output_type": "stream",
     "text": [
      "R-Score SGD: 0.9390386333820816\n",
      "R Score for Test X and Test Y:\n",
      "0.9367823301476095 \n",
      "\n"
     ]
    },
    {
     "data": {
      "text/plain": [
       "[<matplotlib.lines.Line2D at 0x1297a42b0>]"
      ]
     },
     "execution_count": 32,
     "metadata": {},
     "output_type": "execute_result"
    },
    {
     "data": {
      "image/png": "[encoded data removed]",
      "text/plain": [
       "<Figure size 432x288 with 1 Axes>"
      ]
     },
     "metadata": {
      "needs_background": "light"
     },
     "output_type": "display_data"
    }
   ],
   "source": [
    "# train\n",
    "modelSGD = SGDRegressor().fit(x_train, y_train)\n",
    "print (\"R-Score SGD:\", modelSGD.score(x_train, y_train))\n",
    "y_pred_sgd = modelSGD.predict(x_test)\n",
    "print (\"R Score for Test X and Test Y:\")\n",
    "print (modelSGD.score(x_test, y_test), \"\\n\")\n",
    "plt.plot(y_test, y_pred_sgd, '.')"
   ]
  },
  {
   "cell_type": "markdown",
   "id": "7bcdc478",
   "metadata": {},
   "source": [
    "## Analysis Between OLS and SGD ##"
   ]
  },
  {
   "cell_type": "code",
   "execution_count": 33,
   "id": "26869597",
   "metadata": {},
   "outputs": [
    {
     "data": {
      "image/png": "[encoded data removed]",
      "text/plain": [
       "<Figure size 432x288 with 1 Axes>"
      ]
     },
     "metadata": {
      "needs_background": "light"
     },
     "output_type": "display_data"
    },
    {
     "data": {
      "image/png": "[encoded data removed]",
      "text/plain": [
       "<Figure size 432x288 with 1 Axes>"
      ]
     },
     "metadata": {
      "needs_background": "light"
     },
     "output_type": "display_data"
    }
   ],
   "source": [
    "# Training Time Analysis\n",
    "time_fig = plt.figure()\n",
    "ax = time_fig.add_axes([0,0,1,1])\n",
    "categories = ['OLS', 'SGD']\n",
    "counts = [0.37995, 0.3369]\n",
    "ax.bar(categories, counts)\n",
    "plt.title('Training Time in Seconds')\n",
    "plt.show()\n",
    "\n",
    "# Accuracy Analysis\n",
    "acc_fig = plt.figure()\n",
    "ax = acc_fig.add_axes([0,0,1,1])\n",
    "categories = ['OLS', 'SGD']\n",
    "counts = [0.9377, 0.9367]\n",
    "ax.bar(categories, counts)\n",
    "plt.title('Model Accuracy')\n",
    "plt.show()"
   ]
  },
  {
   "cell_type": "markdown",
   "id": "a5909043",
   "metadata": {},
   "source": [
    "Both of these models achieved very accurate results and were very fast in terms of training. \n",
    "\n",
    "These results could be attributed to the similarities between the two algorithms. SGD minimizes the loss (y-y_)^2. While OLS minimizes the squared distance between y and y_ a.k.a (y-y_)^2. Hence the two algorithms optimize over the same loss function. Hence we should expect computationally similar results."
   ]
  },
  {
   "cell_type": "code",
   "execution_count": null,
   "id": "8e402f00",
   "metadata": {},
   "outputs": [],
   "source": []
  }
 ],
 "metadata": {
  "kernelspec": {
   "display_name": "Python 3 (ipykernel)",
   "language": "python",
   "name": "python3"
  },
  "language_info": {
   "codemirror_mode": {
    "name": "ipython",
    "version": 3
   },
   "file_extension": ".py",
   "mimetype": "text/x-python",
   "name": "python",
   "nbconvert_exporter": "python",
   "pygments_lexer": "ipython3",
   "version": "3.9.9"
  }
 },
 "nbformat": 4,
 "nbformat_minor": 5
}
